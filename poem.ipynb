{
  "nbformat": 4,
  "nbformat_minor": 0,
  "metadata": {
    "colab": {
      "name": "poem.ipynb",
      "provenance": [],
      "collapsed_sections": [],
      "authorship_tag": "ABX9TyM5+k0VslawgGFeLMCzdwI7",
      "include_colab_link": true
    },
    "kernelspec": {
      "name": "python3",
      "display_name": "Python 3"
    }
  },
  "cells": [
    {
      "cell_type": "markdown",
      "metadata": {
        "id": "view-in-github",
        "colab_type": "text"
      },
      "source": [
        "<a href=\"https://colab.research.google.com/github/AcerPing/AceTibaMe/blob/master/poem.ipynb\" target=\"_parent\"><img src=\"https://colab.research.google.com/assets/colab-badge.svg\" alt=\"Open In Colab\"/></a>"
      ]
    },
    {
      "cell_type": "code",
      "metadata": {
        "id": "PrzXj72RCFSS",
        "colab_type": "code",
        "colab": {}
      },
      "source": [
        "from urllib.request import urlretrieve\n",
        "url = \"https://github.com/Elwing-Chou/ml0716/raw/master/poem_train.csv\"\n",
        "urlretrieve(url,\"train.csv\")\n",
        "url = \"https://github.com/Elwing-Chou/ml0716/raw/master/poem_test.csv\"\n",
        "urlretrieve(url,\"test.csv\")"
      ],
      "execution_count": null,
      "outputs": []
    }
  ]
}