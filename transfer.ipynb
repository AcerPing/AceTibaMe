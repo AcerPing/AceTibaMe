{
  "nbformat": 4,
  "nbformat_minor": 0,
  "metadata": {
    "colab": {
      "name": "transfer.ipynb",
      "provenance": [],
      "collapsed_sections": [],
      "mount_file_id": "1LcYujNa4cEo51wBb2qxZl0tOdDpp9fhQ",
      "authorship_tag": "ABX9TyMpdLBERuPgvF8Gqj3WytJ8",
      "include_colab_link": true
    },
    "kernelspec": {
      "name": "python3",
      "display_name": "Python 3"
    },
    "accelerator": "GPU"
  },
  "cells": [
    {
      "cell_type": "markdown",
      "metadata": {
        "id": "view-in-github",
        "colab_type": "text"
      },
      "source": [
        "<a href=\"https://colab.research.google.com/github/AcerPing/AceTibaMe/blob/master/transfer.ipynb\" target=\"_parent\"><img src=\"https://colab.research.google.com/assets/colab-badge.svg\" alt=\"Open In Colab\"/></a>"
      ]
    },
    {
      "cell_type": "code",
      "metadata": {
        "id": "BfKmd6kPPdN3",
        "colab_type": "code",
        "colab": {
          "base_uri": "https://localhost:8080/",
          "height": 34
        },
        "outputId": "17792285-d1c9-4b14-f887-22bf2290e221"
      },
      "source": [
        "from google.colab import drive\n",
        "drive.mount('/content/drive')"
      ],
      "execution_count": 1,
      "outputs": [
        {
          "output_type": "stream",
          "text": [
            "Drive already mounted at /content/drive; to attempt to forcibly remount, call drive.mount(\"/content/drive\", force_remount=True).\n"
          ],
          "name": "stdout"
        }
      ]
    },
    {
      "cell_type": "code",
      "metadata": {
        "id": "7__gBDxRQHjM",
        "colab_type": "code",
        "colab": {}
      },
      "source": [
        "import zipfile\n",
        "f = zipfile.ZipFile(\"drive/My Drive/train.zip\")\n",
        "f.extractall(\"datas\")"
      ],
      "execution_count": 3,
      "outputs": []
    },
    {
      "cell_type": "code",
      "metadata": {
        "id": "FZqjd4kIPiAj",
        "colab_type": "code",
        "colab": {
          "base_uri": "https://localhost:8080/",
          "height": 402
        },
        "outputId": "181d6716-03f4-448a-9d4d-26b93d678b34"
      },
      "source": [
        "import glob\n",
        "import pandas as pd\n",
        "\n",
        "dogs = glob.glob(\"datas/train/dog.*\")\n",
        "cats = glob.glob(\"datas/train/cat.*\")\n",
        "df = pd.DataFrame({\n",
        "    \"path\":dogs+cats,\n",
        "    \"ans\":[0]*len(dogs)+[1]*len(cats)})\n",
        "df"
      ],
      "execution_count": 8,
      "outputs": [
        {
          "output_type": "execute_result",
          "data": {
            "text/html": [
              "<div>\n",
              "<style scoped>\n",
              "    .dataframe tbody tr th:only-of-type {\n",
              "        vertical-align: middle;\n",
              "    }\n",
              "\n",
              "    .dataframe tbody tr th {\n",
              "        vertical-align: top;\n",
              "    }\n",
              "\n",
              "    .dataframe thead th {\n",
              "        text-align: right;\n",
              "    }\n",
              "</style>\n",
              "<table border=\"1\" class=\"dataframe\">\n",
              "  <thead>\n",
              "    <tr style=\"text-align: right;\">\n",
              "      <th></th>\n",
              "      <th>path</th>\n",
              "      <th>ans</th>\n",
              "    </tr>\n",
              "  </thead>\n",
              "  <tbody>\n",
              "    <tr>\n",
              "      <th>0</th>\n",
              "      <td>datas/train/dog.5656.jpg</td>\n",
              "      <td>0</td>\n",
              "    </tr>\n",
              "    <tr>\n",
              "      <th>1</th>\n",
              "      <td>datas/train/dog.8713.jpg</td>\n",
              "      <td>0</td>\n",
              "    </tr>\n",
              "    <tr>\n",
              "      <th>2</th>\n",
              "      <td>datas/train/dog.6643.jpg</td>\n",
              "      <td>0</td>\n",
              "    </tr>\n",
              "    <tr>\n",
              "      <th>3</th>\n",
              "      <td>datas/train/dog.5301.jpg</td>\n",
              "      <td>0</td>\n",
              "    </tr>\n",
              "    <tr>\n",
              "      <th>4</th>\n",
              "      <td>datas/train/dog.2056.jpg</td>\n",
              "      <td>0</td>\n",
              "    </tr>\n",
              "    <tr>\n",
              "      <th>...</th>\n",
              "      <td>...</td>\n",
              "      <td>...</td>\n",
              "    </tr>\n",
              "    <tr>\n",
              "      <th>24995</th>\n",
              "      <td>datas/train/cat.5152.jpg</td>\n",
              "      <td>1</td>\n",
              "    </tr>\n",
              "    <tr>\n",
              "      <th>24996</th>\n",
              "      <td>datas/train/cat.3089.jpg</td>\n",
              "      <td>1</td>\n",
              "    </tr>\n",
              "    <tr>\n",
              "      <th>24997</th>\n",
              "      <td>datas/train/cat.9365.jpg</td>\n",
              "      <td>1</td>\n",
              "    </tr>\n",
              "    <tr>\n",
              "      <th>24998</th>\n",
              "      <td>datas/train/cat.4735.jpg</td>\n",
              "      <td>1</td>\n",
              "    </tr>\n",
              "    <tr>\n",
              "      <th>24999</th>\n",
              "      <td>datas/train/cat.7388.jpg</td>\n",
              "      <td>1</td>\n",
              "    </tr>\n",
              "  </tbody>\n",
              "</table>\n",
              "<p>25000 rows × 2 columns</p>\n",
              "</div>"
            ],
            "text/plain": [
              "                           path  ans\n",
              "0      datas/train/dog.5656.jpg    0\n",
              "1      datas/train/dog.8713.jpg    0\n",
              "2      datas/train/dog.6643.jpg    0\n",
              "3      datas/train/dog.5301.jpg    0\n",
              "4      datas/train/dog.2056.jpg    0\n",
              "...                         ...  ...\n",
              "24995  datas/train/cat.5152.jpg    1\n",
              "24996  datas/train/cat.3089.jpg    1\n",
              "24997  datas/train/cat.9365.jpg    1\n",
              "24998  datas/train/cat.4735.jpg    1\n",
              "24999  datas/train/cat.7388.jpg    1\n",
              "\n",
              "[25000 rows x 2 columns]"
            ]
          },
          "metadata": {
            "tags": []
          },
          "execution_count": 8
        }
      ]
    },
    {
      "cell_type": "code",
      "metadata": {
        "id": "iK8HdwrGTVfE",
        "colab_type": "code",
        "colab": {
          "base_uri": "https://localhost:8080/",
          "height": 890
        },
        "outputId": "f23f678e-3393-4520-e6b5-2206a49f64e8"
      },
      "source": [
        "from tensorflow.keras.applications.vgg16 import VGG16\n",
        "from tensorflow.keras.layers import Dense,Flatten,Dropout\n",
        "from tensorflow.keras.models import Sequential\n",
        "cnn = VGG16(include_top=False,input_shape=(224,224,3))\n",
        "for layer in cnn.layers:\n",
        "  layer.trainable = False\n",
        "mlp = [Flatten(),\n",
        "    Dense(256,activation=\"relu\"),\n",
        "    Dropout(0.25),\n",
        "    Dense(2,activation=\"softmax\")]\n",
        "model = Sequential(cnn.layers + mlp)\n",
        "model.summary()"
      ],
      "execution_count": 17,
      "outputs": [
        {
          "output_type": "stream",
          "text": [
            "Model: \"sequential_1\"\n",
            "_________________________________________________________________\n",
            "Layer (type)                 Output Shape              Param #   \n",
            "=================================================================\n",
            "block1_conv1 (Conv2D)        (None, 224, 224, 64)      1792      \n",
            "_________________________________________________________________\n",
            "block1_conv2 (Conv2D)        (None, 224, 224, 64)      36928     \n",
            "_________________________________________________________________\n",
            "block1_pool (MaxPooling2D)   (None, 112, 112, 64)      0         \n",
            "_________________________________________________________________\n",
            "block2_conv1 (Conv2D)        (None, 112, 112, 128)     73856     \n",
            "_________________________________________________________________\n",
            "block2_conv2 (Conv2D)        (None, 112, 112, 128)     147584    \n",
            "_________________________________________________________________\n",
            "block2_pool (MaxPooling2D)   (None, 56, 56, 128)       0         \n",
            "_________________________________________________________________\n",
            "block3_conv1 (Conv2D)        (None, 56, 56, 256)       295168    \n",
            "_________________________________________________________________\n",
            "block3_conv2 (Conv2D)        (None, 56, 56, 256)       590080    \n",
            "_________________________________________________________________\n",
            "block3_conv3 (Conv2D)        (None, 56, 56, 256)       590080    \n",
            "_________________________________________________________________\n",
            "block3_pool (MaxPooling2D)   (None, 28, 28, 256)       0         \n",
            "_________________________________________________________________\n",
            "block4_conv1 (Conv2D)        (None, 28, 28, 512)       1180160   \n",
            "_________________________________________________________________\n",
            "block4_conv2 (Conv2D)        (None, 28, 28, 512)       2359808   \n",
            "_________________________________________________________________\n",
            "block4_conv3 (Conv2D)        (None, 28, 28, 512)       2359808   \n",
            "_________________________________________________________________\n",
            "block4_pool (MaxPooling2D)   (None, 14, 14, 512)       0         \n",
            "_________________________________________________________________\n",
            "block5_conv1 (Conv2D)        (None, 14, 14, 512)       2359808   \n",
            "_________________________________________________________________\n",
            "block5_conv2 (Conv2D)        (None, 14, 14, 512)       2359808   \n",
            "_________________________________________________________________\n",
            "block5_conv3 (Conv2D)        (None, 14, 14, 512)       2359808   \n",
            "_________________________________________________________________\n",
            "block5_pool (MaxPooling2D)   (None, 7, 7, 512)         0         \n",
            "_________________________________________________________________\n",
            "flatten_1 (Flatten)          (None, 25088)             0         \n",
            "_________________________________________________________________\n",
            "dense_2 (Dense)              (None, 256)               6422784   \n",
            "_________________________________________________________________\n",
            "dropout_1 (Dropout)          (None, 256)               0         \n",
            "_________________________________________________________________\n",
            "dense_3 (Dense)              (None, 2)                 514       \n",
            "=================================================================\n",
            "Total params: 21,137,986\n",
            "Trainable params: 6,423,298\n",
            "Non-trainable params: 14,714,688\n",
            "_________________________________________________________________\n"
          ],
          "name": "stdout"
        }
      ]
    },
    {
      "cell_type": "code",
      "metadata": {
        "id": "zrEyBQuyT9Xo",
        "colab_type": "code",
        "colab": {
          "base_uri": "https://localhost:8080/",
          "height": 336
        },
        "outputId": "1809efc4-7839-488b-e83b-2421cce92002"
      },
      "source": [
        "cnn.layers"
      ],
      "execution_count": 13,
      "outputs": [
        {
          "output_type": "execute_result",
          "data": {
            "text/plain": [
              "[<tensorflow.python.keras.engine.input_layer.InputLayer at 0x7f327eab8240>,\n",
              " <tensorflow.python.keras.layers.convolutional.Conv2D at 0x7f327eab84e0>,\n",
              " <tensorflow.python.keras.layers.convolutional.Conv2D at 0x7f327eab8710>,\n",
              " <tensorflow.python.keras.layers.pooling.MaxPooling2D at 0x7f327eab8b38>,\n",
              " <tensorflow.python.keras.layers.convolutional.Conv2D at 0x7f327e61f5f8>,\n",
              " <tensorflow.python.keras.layers.convolutional.Conv2D at 0x7f327e6284a8>,\n",
              " <tensorflow.python.keras.layers.pooling.MaxPooling2D at 0x7f327e6288d0>,\n",
              " <tensorflow.python.keras.layers.convolutional.Conv2D at 0x7f327e62e0f0>,\n",
              " <tensorflow.python.keras.layers.convolutional.Conv2D at 0x7f327e62ef28>,\n",
              " <tensorflow.python.keras.layers.convolutional.Conv2D at 0x7f327e6353c8>,\n",
              " <tensorflow.python.keras.layers.pooling.MaxPooling2D at 0x7f327e635c18>,\n",
              " <tensorflow.python.keras.layers.convolutional.Conv2D at 0x7f327e643748>,\n",
              " <tensorflow.python.keras.layers.convolutional.Conv2D at 0x7f327e6495c0>,\n",
              " <tensorflow.python.keras.layers.convolutional.Conv2D at 0x7f327e6499e8>,\n",
              " <tensorflow.python.keras.layers.pooling.MaxPooling2D at 0x7f327e6525c0>,\n",
              " <tensorflow.python.keras.layers.convolutional.Conv2D at 0x7f327e652da0>,\n",
              " <tensorflow.python.keras.layers.convolutional.Conv2D at 0x7f327e65bc18>,\n",
              " <tensorflow.python.keras.layers.convolutional.Conv2D at 0x7f327e65bb70>,\n",
              " <tensorflow.python.keras.layers.pooling.MaxPooling2D at 0x7f327e5e2908>]"
            ]
          },
          "metadata": {
            "tags": []
          },
          "execution_count": 13
        }
      ]
    }
  ]
}