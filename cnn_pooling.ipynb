{
  "nbformat": 4,
  "nbformat_minor": 0,
  "metadata": {
    "colab": {
      "name": "cnn_pooling.ipynb",
      "provenance": [],
      "collapsed_sections": [],
      "authorship_tag": "ABX9TyNhIsPWZ1WejORe+UXHUh3m",
      "include_colab_link": true
    },
    "kernelspec": {
      "name": "python3",
      "display_name": "Python 3"
    },
    "accelerator": "GPU"
  },
  "cells": [
    {
      "cell_type": "markdown",
      "metadata": {
        "id": "view-in-github",
        "colab_type": "text"
      },
      "source": [
        "<a href=\"https://colab.research.google.com/github/AcerPing/AceTibaMe/blob/master/cnn_pooling.ipynb\" target=\"_parent\"><img src=\"https://colab.research.google.com/assets/colab-badge.svg\" alt=\"Open In Colab\"/></a>"
      ]
    },
    {
      "cell_type": "code",
      "metadata": {
        "id": "A_OV_8WV2C5D",
        "colab_type": "code",
        "colab": {
          "base_uri": "https://localhost:8080/",
          "height": 50
        },
        "outputId": "73cb4087-4967-4056-a48f-9d836f925aab"
      },
      "source": [
        "from tensorflow.keras.datasets.cifar10 import load_data\n",
        "(x_train,y_train),(x_test,y_test) = load_data()\n",
        "print(x_train.shape)\n",
        "print(x_test.shape)"
      ],
      "execution_count": 9,
      "outputs": [
        {
          "output_type": "stream",
          "text": [
            "(50000, 32, 32, 3)\n",
            "(10000, 32, 32, 3)\n"
          ],
          "name": "stdout"
        }
      ]
    },
    {
      "cell_type": "code",
      "metadata": {
        "id": "7R_KU1zLIuHX",
        "colab_type": "code",
        "colab": {}
      },
      "source": [
        "trans = [\"airplane\",\"automobile\",\"bird\",\"cat\",\"deer\",\"dog\",\"frog\",\"horse\",\"ship\",\"truck\"]"
      ],
      "execution_count": 10,
      "outputs": []
    },
    {
      "cell_type": "code",
      "metadata": {
        "id": "MwG4IWlhHfIJ",
        "colab_type": "code",
        "colab": {
          "base_uri": "https://localhost:8080/",
          "height": 282
        },
        "outputId": "1cf02d35-aef4-4754-fa16-543c3aa09e93"
      },
      "source": [
        "import random\n",
        "import matplotlib.pyplot as plt\n",
        "%matplotlib inline\n",
        "i = random.randint(0,50000-1)\n",
        "print(trans[y_train[i][0]])\n",
        "plt.axis(\"off\")\n",
        "plt.imshow(x_train[i])"
      ],
      "execution_count": 11,
      "outputs": [
        {
          "output_type": "stream",
          "text": [
            "bird\n"
          ],
          "name": "stdout"
        },
        {
          "output_type": "execute_result",
          "data": {
            "text/plain": [
              "<matplotlib.image.AxesImage at 0x7f49f02c7dd8>"
            ]
          },
          "metadata": {
            "tags": []
          },
          "execution_count": 11
        },
        {
          "output_type": "display_data",
          "data": {
            "image/png": "[encoded data removed]",
            "text/plain": [
              "<Figure size 432x288 with 1 Axes>"
            ]
          },
          "metadata": {
            "tags": [],
            "needs_background": "light"
          }
        }
      ]
    },
    {
      "cell_type": "code",
      "metadata": {
        "id": "EzwDTBeuHfG_",
        "colab_type": "code",
        "colab": {
          "base_uri": "https://localhost:8080/",
          "height": 386
        },
        "outputId": "9d577e01-df9d-4552-fe5b-aa5b6100b9f0"
      },
      "source": [
        "from tensorflow.keras.layers import Conv2D,MaxPooling2D,GlobalAveragePooling2D\n",
        "from tensorflow.keras.layers import Dense,Flatten,Dropout\n",
        "from tensorflow.keras.models import Sequential\n",
        "layers = [\n",
        "      #3*3*3(一個過濾器)*64(個)+64(bias)=1792\n",
        "      Conv2D(64,3,padding=\"same\",activation=\"relu\",input_shape=(32, 32, 3)),\n",
        "      MaxPooling2D(),\n",
        "      #3*3*64(一個過濾器)*128(個)+128(bias)=73856\n",
        "      Conv2D(128,3,padding=\"same\",activation=\"relu\"),\n",
        "      MaxPooling2D(),\n",
        "      Conv2D(256,3,padding=\"same\",activation=\"relu\"),\n",
        "      GlobalAveragePooling2D(),\n",
        "      Dense(10,activation=\"softmax\")]\n",
        "model = Sequential(layers)\n",
        "model.summary()"
      ],
      "execution_count": 12,
      "outputs": [
        {
          "output_type": "stream",
          "text": [
            "Model: \"sequential_1\"\n",
            "_________________________________________________________________\n",
            "Layer (type)                 Output Shape              Param #   \n",
            "=================================================================\n",
            "conv2d_3 (Conv2D)            (None, 32, 32, 64)        1792      \n",
            "_________________________________________________________________\n",
            "max_pooling2d_2 (MaxPooling2 (None, 16, 16, 64)        0         \n",
            "_________________________________________________________________\n",
            "conv2d_4 (Conv2D)            (None, 16, 16, 128)       73856     \n",
            "_________________________________________________________________\n",
            "max_pooling2d_3 (MaxPooling2 (None, 8, 8, 128)         0         \n",
            "_________________________________________________________________\n",
            "conv2d_5 (Conv2D)            (None, 8, 8, 256)         295168    \n",
            "_________________________________________________________________\n",
            "global_average_pooling2d_1 ( (None, 256)               0         \n",
            "_________________________________________________________________\n",
            "dense_1 (Dense)              (None, 10)                2570      \n",
            "=================================================================\n",
            "Total params: 373,386\n",
            "Trainable params: 373,386\n",
            "Non-trainable params: 0\n",
            "_________________________________________________________________\n"
          ],
          "name": "stdout"
        }
      ]
    },
    {
      "cell_type": "code",
      "metadata": {
        "id": "2vbTQHx4grvD",
        "colab_type": "code",
        "colab": {}
      },
      "source": [
        ""
      ],
      "execution_count": 12,
      "outputs": []
    },
    {
      "cell_type": "code",
      "metadata": {
        "id": "J_bpe4HCXLqi",
        "colab_type": "code",
        "colab": {}
      },
      "source": [
        "from tensorflow.keras.losses import SparseCategoricalCrossentropy\n",
        "model.compile(loss=SparseCategoricalCrossentropy(),optimizer=\"adam\",metrics=[\"accuracy\"])\n"
      ],
      "execution_count": 13,
      "outputs": []
    },
    {
      "cell_type": "code",
      "metadata": {
        "id": "a1BJNzIKYELR",
        "colab_type": "code",
        "colab": {}
      },
      "source": [
        "x_train_norm = x_train/255\n",
        "x_test_norm = x_test/255\n"
      ],
      "execution_count": 14,
      "outputs": []
    },
    {
      "cell_type": "code",
      "metadata": {
        "id": "Jp9LCnl8Xkj4",
        "colab_type": "code",
        "colab": {
          "base_uri": "https://localhost:8080/",
          "height": 1000
        },
        "outputId": "503f2a21-f5eb-4a53-9c95-ad9d8c4ef9a8"
      },
      "source": [
        "from tensorflow.keras.callbacks import EarlyStopping,ModelCheckpoint\n",
        "callbacks = [ModelCheckpoint(\"cnn.h5\",save_best_only=True),\n",
        "       EarlyStopping(patience=5,restore_best_weights=True)]\n",
        "model.fit(x_train_norm,\n",
        "     y_train,\n",
        "     batch_size=200,\n",
        "     validation_split=0.1,\n",
        "     epochs=50,\n",
        "     verbose=2,\n",
        "     callbacks=callbacks)"
      ],
      "execution_count": 7,
      "outputs": [
        {
          "output_type": "stream",
          "text": [
            "Epoch 1/50\n",
            "WARNING:tensorflow:Callbacks method `on_train_batch_end` is slow compared to the batch time (batch time: 0.0063s vs `on_train_batch_end` time: 0.0238s). Check your callbacks.\n",
            "WARNING:tensorflow:Callbacks method `on_test_batch_end` is slow compared to the batch time (batch time: 0.0024s vs `on_test_batch_end` time: 0.0064s). Check your callbacks.\n",
            "225/225 - 6s - loss: 1.8627 - accuracy: 0.2986 - val_loss: 1.6441 - val_accuracy: 0.3716\n",
            "Epoch 2/50\n",
            "225/225 - 6s - loss: 1.5765 - accuracy: 0.4232 - val_loss: 1.4734 - val_accuracy: 0.4616\n",
            "Epoch 3/50\n",
            "225/225 - 6s - loss: 1.4358 - accuracy: 0.4809 - val_loss: 1.3869 - val_accuracy: 0.4966\n",
            "Epoch 4/50\n",
            "225/225 - 6s - loss: 1.3493 - accuracy: 0.5144 - val_loss: 1.3074 - val_accuracy: 0.5324\n",
            "Epoch 5/50\n",
            "225/225 - 6s - loss: 1.2779 - accuracy: 0.5436 - val_loss: 1.2434 - val_accuracy: 0.5550\n",
            "Epoch 6/50\n",
            "225/225 - 6s - loss: 1.2247 - accuracy: 0.5642 - val_loss: 1.1726 - val_accuracy: 0.5762\n",
            "Epoch 7/50\n",
            "225/225 - 6s - loss: 1.1665 - accuracy: 0.5869 - val_loss: 1.1488 - val_accuracy: 0.5972\n",
            "Epoch 8/50\n",
            "225/225 - 6s - loss: 1.1166 - accuracy: 0.6046 - val_loss: 1.1115 - val_accuracy: 0.6082\n",
            "Epoch 9/50\n",
            "225/225 - 6s - loss: 1.0885 - accuracy: 0.6172 - val_loss: 1.1313 - val_accuracy: 0.6028\n",
            "Epoch 10/50\n",
            "225/225 - 6s - loss: 1.0626 - accuracy: 0.6272 - val_loss: 1.0530 - val_accuracy: 0.6260\n",
            "Epoch 11/50\n",
            "225/225 - 6s - loss: 1.0302 - accuracy: 0.6364 - val_loss: 1.0660 - val_accuracy: 0.6222\n",
            "Epoch 12/50\n",
            "225/225 - 6s - loss: 0.9949 - accuracy: 0.6515 - val_loss: 0.9789 - val_accuracy: 0.6530\n",
            "Epoch 13/50\n",
            "225/225 - 6s - loss: 0.9613 - accuracy: 0.6647 - val_loss: 0.9524 - val_accuracy: 0.6742\n",
            "Epoch 14/50\n",
            "225/225 - 6s - loss: 0.9513 - accuracy: 0.6669 - val_loss: 1.0016 - val_accuracy: 0.6412\n",
            "Epoch 15/50\n",
            "225/225 - 6s - loss: 0.9299 - accuracy: 0.6739 - val_loss: 0.9374 - val_accuracy: 0.6788\n",
            "Epoch 16/50\n",
            "225/225 - 6s - loss: 0.9079 - accuracy: 0.6825 - val_loss: 0.9353 - val_accuracy: 0.6774\n",
            "Epoch 17/50\n",
            "225/225 - 6s - loss: 0.8963 - accuracy: 0.6878 - val_loss: 0.9080 - val_accuracy: 0.6886\n",
            "Epoch 18/50\n",
            "225/225 - 6s - loss: 0.8750 - accuracy: 0.6935 - val_loss: 0.9147 - val_accuracy: 0.6854\n",
            "Epoch 19/50\n",
            "225/225 - 6s - loss: 0.8594 - accuracy: 0.7002 - val_loss: 0.8891 - val_accuracy: 0.6918\n",
            "Epoch 20/50\n",
            "225/225 - 6s - loss: 0.8410 - accuracy: 0.7060 - val_loss: 0.8836 - val_accuracy: 0.6956\n",
            "Epoch 21/50\n",
            "225/225 - 6s - loss: 0.8248 - accuracy: 0.7135 - val_loss: 0.8435 - val_accuracy: 0.7064\n",
            "Epoch 22/50\n",
            "225/225 - 6s - loss: 0.8080 - accuracy: 0.7180 - val_loss: 0.8572 - val_accuracy: 0.7056\n",
            "Epoch 23/50\n",
            "225/225 - 6s - loss: 0.7989 - accuracy: 0.7196 - val_loss: 0.9041 - val_accuracy: 0.6852\n",
            "Epoch 24/50\n",
            "225/225 - 6s - loss: 0.7827 - accuracy: 0.7267 - val_loss: 0.8035 - val_accuracy: 0.7278\n",
            "Epoch 25/50\n",
            "225/225 - 6s - loss: 0.7693 - accuracy: 0.7316 - val_loss: 0.8095 - val_accuracy: 0.7230\n",
            "Epoch 26/50\n",
            "225/225 - 6s - loss: 0.7528 - accuracy: 0.7376 - val_loss: 0.7998 - val_accuracy: 0.7236\n",
            "Epoch 27/50\n",
            "225/225 - 6s - loss: 0.7402 - accuracy: 0.7431 - val_loss: 0.7735 - val_accuracy: 0.7314\n",
            "Epoch 28/50\n",
            "225/225 - 6s - loss: 0.7398 - accuracy: 0.7422 - val_loss: 0.7753 - val_accuracy: 0.7360\n",
            "Epoch 29/50\n",
            "225/225 - 6s - loss: 0.7115 - accuracy: 0.7527 - val_loss: 0.7600 - val_accuracy: 0.7400\n",
            "Epoch 30/50\n",
            "225/225 - 6s - loss: 0.7049 - accuracy: 0.7554 - val_loss: 0.7526 - val_accuracy: 0.7412\n",
            "Epoch 31/50\n",
            "225/225 - 6s - loss: 0.6971 - accuracy: 0.7581 - val_loss: 0.7546 - val_accuracy: 0.7400\n",
            "Epoch 32/50\n",
            "225/225 - 6s - loss: 0.6732 - accuracy: 0.7672 - val_loss: 0.7505 - val_accuracy: 0.7438\n",
            "Epoch 33/50\n",
            "225/225 - 6s - loss: 0.6729 - accuracy: 0.7673 - val_loss: 0.7532 - val_accuracy: 0.7420\n",
            "Epoch 34/50\n",
            "225/225 - 6s - loss: 0.6605 - accuracy: 0.7701 - val_loss: 0.7616 - val_accuracy: 0.7394\n",
            "Epoch 35/50\n",
            "225/225 - 6s - loss: 0.6532 - accuracy: 0.7728 - val_loss: 0.7571 - val_accuracy: 0.7410\n",
            "Epoch 36/50\n",
            "225/225 - 6s - loss: 0.6351 - accuracy: 0.7794 - val_loss: 0.7355 - val_accuracy: 0.7464\n",
            "Epoch 37/50\n",
            "225/225 - 6s - loss: 0.6265 - accuracy: 0.7822 - val_loss: 0.7223 - val_accuracy: 0.7530\n",
            "Epoch 38/50\n",
            "225/225 - 6s - loss: 0.6120 - accuracy: 0.7887 - val_loss: 0.7301 - val_accuracy: 0.7460\n",
            "Epoch 39/50\n",
            "225/225 - 6s - loss: 0.5999 - accuracy: 0.7932 - val_loss: 0.6995 - val_accuracy: 0.7604\n",
            "Epoch 40/50\n",
            "225/225 - 6s - loss: 0.5921 - accuracy: 0.7947 - val_loss: 0.7152 - val_accuracy: 0.7574\n",
            "Epoch 41/50\n",
            "225/225 - 6s - loss: 0.5885 - accuracy: 0.7963 - val_loss: 0.6991 - val_accuracy: 0.7620\n",
            "Epoch 42/50\n",
            "225/225 - 6s - loss: 0.5826 - accuracy: 0.7970 - val_loss: 0.7273 - val_accuracy: 0.7582\n",
            "Epoch 43/50\n",
            "225/225 - 6s - loss: 0.5648 - accuracy: 0.8045 - val_loss: 0.7056 - val_accuracy: 0.7624\n",
            "Epoch 44/50\n",
            "225/225 - 6s - loss: 0.5560 - accuracy: 0.8077 - val_loss: 0.6972 - val_accuracy: 0.7622\n",
            "Epoch 45/50\n",
            "225/225 - 6s - loss: 0.5456 - accuracy: 0.8108 - val_loss: 0.6929 - val_accuracy: 0.7630\n",
            "Epoch 46/50\n",
            "225/225 - 6s - loss: 0.5334 - accuracy: 0.8142 - val_loss: 0.7079 - val_accuracy: 0.7590\n",
            "Epoch 47/50\n",
            "225/225 - 6s - loss: 0.5295 - accuracy: 0.8171 - val_loss: 0.6891 - val_accuracy: 0.7678\n",
            "Epoch 48/50\n",
            "225/225 - 6s - loss: 0.5209 - accuracy: 0.8180 - val_loss: 0.7122 - val_accuracy: 0.7620\n",
            "Epoch 49/50\n",
            "225/225 - 6s - loss: 0.5098 - accuracy: 0.8230 - val_loss: 0.6873 - val_accuracy: 0.7672\n",
            "Epoch 50/50\n",
            "225/225 - 6s - loss: 0.4911 - accuracy: 0.8305 - val_loss: 0.6549 - val_accuracy: 0.7804\n"
          ],
          "name": "stdout"
        },
        {
          "output_type": "execute_result",
          "data": {
            "text/plain": [
              "<tensorflow.python.keras.callbacks.History at 0x7f49f04fc6d8>"
            ]
          },
          "metadata": {
            "tags": []
          },
          "execution_count": 7
        }
      ]
    },
    {
      "cell_type": "code",
      "metadata": {
        "id": "lsor4DjdZR1D",
        "colab_type": "code",
        "colab": {
          "base_uri": "https://localhost:8080/",
          "height": 50
        },
        "outputId": "927678a2-ad0e-43fb-a2de-1ace4309e938"
      },
      "source": [
        "model.evaluate(x_test_norm,y_test)"
      ],
      "execution_count": 8,
      "outputs": [
        {
          "output_type": "stream",
          "text": [
            "313/313 [==============================] - 1s 5ms/step - loss: 0.6818 - accuracy: 0.7669\n"
          ],
          "name": "stdout"
        },
        {
          "output_type": "execute_result",
          "data": {
            "text/plain": [
              "[0.681805431842804, 0.7669000029563904]"
            ]
          },
          "metadata": {
            "tags": []
          },
          "execution_count": 8
        }
      ]
    },
    {
      "cell_type": "code",
      "metadata": {
        "id": "Fo8RtJT_ZR0A",
        "colab_type": "code",
        "colab": {}
      },
      "source": [
        ""
      ],
      "execution_count": 8,
      "outputs": []
    }
  ]
}