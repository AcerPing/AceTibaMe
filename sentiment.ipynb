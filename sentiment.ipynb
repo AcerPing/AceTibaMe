{
  "nbformat": 4,
  "nbformat_minor": 0,
  "metadata": {
    "colab": {
      "name": "sentiment.ipynb",
      "provenance": [],
      "collapsed_sections": [],
      "include_colab_link": true
    },
    "kernelspec": {
      "name": "python3",
      "display_name": "Python 3"
    },
    "accelerator": "GPU"
  },
  "cells": [
    {
      "cell_type": "markdown",
      "metadata": {
        "id": "view-in-github",
        "colab_type": "text"
      },
      "source": [
        "<a href=\"https://colab.research.google.com/github/AcerPing/AceTibaMe/blob/master/sentiment.ipynb\" target=\"_parent\"><img src=\"https://colab.research.google.com/assets/colab-badge.svg\" alt=\"Open In Colab\"/></a>"
      ]
    },
    {
      "cell_type": "code",
      "metadata": {
        "id": "ZR8DRVTuHP4V",
        "colab_type": "code",
        "colab": {}
      },
      "source": [
        "import tensorflow as tf\n",
        "\n",
        "dataset = tf.keras.utils.get_file(\n",
        "    fname=\"aclImdb.tar.gz\", \n",
        "    origin=\"http://ai.stanford.edu/~amaas/data/sentiment/aclImdb_v1.tar.gz\", \n",
        "    extract=True,\n",
        ")"
      ],
      "execution_count": null,
      "outputs": []
    },
    {
      "cell_type": "code",
      "metadata": {
        "id": "IZG93ZJaJURL",
        "colab_type": "code",
        "colab": {}
      },
      "source": [
        "import os \n",
        "import glob\n",
        "import pandas as pd\n",
        "\n",
        "def getdata(mid):\n",
        "  dn = os.path.dirname(dataset)\n",
        "  posfn = glob.glob(os.path.join(dn,\"aclImdb\",mid,\"pos\",\"*\"))\n",
        "  negfn = glob.glob(os.path.join(dn,\"aclImdb\",mid,\"neg\",\"*\"))\n",
        "  contents = []\n",
        "  for fn in posfn + negfn:\n",
        "    with open(fn,encoding=\"utf-8\") as f:\n",
        "      contents.append(f.read())\n",
        "  df = pd.DataFrame({\n",
        "      \"content\":contents,\n",
        "      \"sentiment\":[1]*len(posfn) + [0]*len(negfn)})\n",
        "  return df\n",
        "\n",
        "\n"
      ],
      "execution_count": null,
      "outputs": []
    },
    {
      "cell_type": "code",
      "metadata": {
        "id": "UYk4jNMQLUgH",
        "colab_type": "code",
        "colab": {}
      },
      "source": [
        "train_df = getdata(\"train\")\n",
        "test_df = getdata(\"test\")\n",
        "train_df\n",
        "# test_df"
      ],
      "execution_count": null,
      "outputs": []
    },
    {
      "cell_type": "code",
      "metadata": {
        "id": "cduJzIgSL509",
        "colab_type": "code",
        "colab": {}
      },
      "source": [
        "dataset"
      ],
      "execution_count": null,
      "outputs": []
    },
    {
      "cell_type": "code",
      "metadata": {
        "id": "jJHTNyHIYb1x",
        "colab_type": "code",
        "colab": {}
      },
      "source": [
        "#Tokenizer:把詞化成數字\n",
        "from tensorflow.keras.preprocessing.text import Tokenizer\n",
        "tok = Tokenizer(num_words=3000)\n",
        "tok.fit_on_texts(train_df[\"content\"])"
      ],
      "execution_count": null,
      "outputs": []
    },
    {
      "cell_type": "code",
      "metadata": {
        "id": "6Y48lC_dZLTh",
        "colab_type": "code",
        "colab": {}
      },
      "source": [
        "#0不要用掉，0是拿來padding的\n",
        "tok.word_index"
      ],
      "execution_count": null,
      "outputs": []
    },
    {
      "cell_type": "code",
      "metadata": {
        "id": "ie4mPL1MZvpi",
        "colab_type": "code",
        "colab": {}
      },
      "source": [
        "#sequences:數字序列\n",
        "x_train_seq = tok.texts_to_sequences(train_df[\"content\"])\n",
        "x_test_seq = tok.texts_to_sequences(test_df[\"content\"])\n",
        "pd.DataFrame(x_train_seq)"
      ],
      "execution_count": null,
      "outputs": []
    },
    {
      "cell_type": "code",
      "metadata": {
        "id": "Fs9ZnqFvd0_1",
        "colab_type": "code",
        "colab": {}
      },
      "source": [
        "#截長補短到每一篇文章都是同樣詞數\n",
        "from tensorflow.keras.preprocessing.sequence import pad_sequences\n",
        "x_train_pad = pad_sequences(x_train_seq, maxlen=512)\n",
        "x_test_pad = pad_sequences(x_test_seq, maxlen=512)\n",
        "pd.DataFrame(x_train_pad)"
      ],
      "execution_count": null,
      "outputs": []
    },
    {
      "cell_type": "code",
      "metadata": {
        "id": "yWpeZVTNfRCh",
        "colab_type": "code",
        "colab": {}
      },
      "source": [
        "import numpy as np\n",
        "y_train = np.array(train_df[\"sentiment\"])\n",
        "y_test = np.array(test_df[\"sentiment\"])"
      ],
      "execution_count": 9,
      "outputs": []
    },
    {
      "cell_type": "code",
      "metadata": {
        "id": "zDGOJQ8qfeLV",
        "colab_type": "code",
        "colab": {
          "base_uri": "https://localhost:8080/",
          "height": 319
        },
        "outputId": "0a206edf-a77f-4e55-e02f-64c948d97851"
      },
      "source": [
        "from tensorflow.keras.models import Sequential\n",
        "from tensorflow.keras.layers import Dense,Flatten,Embedding,Dropout\n",
        "INPUT_DIM = 3001\n",
        "OUTPUT_DIM = 128\n",
        "INPUT_LENGTH = 512\n",
        "layers = [Embedding(INPUT_DIM,OUTPUT_DIM,mask_zero=True,input_length=INPUT_LENGTH),\n",
        "      Flatten(),\n",
        "      Dense(256,activation=\"relu\"),\n",
        "      Dropout(0.25),\n",
        "      Dense(2,activation=\"softmax\")]\n",
        "model = Sequential(layers)\n",
        "model.summary()"
      ],
      "execution_count": 10,
      "outputs": [
        {
          "output_type": "stream",
          "text": [
            "Model: \"sequential\"\n",
            "_________________________________________________________________\n",
            "Layer (type)                 Output Shape              Param #   \n",
            "=================================================================\n",
            "embedding (Embedding)        (None, 512, 128)          384128    \n",
            "_________________________________________________________________\n",
            "flatten (Flatten)            (None, 65536)             0         \n",
            "_________________________________________________________________\n",
            "dense (Dense)                (None, 256)               16777472  \n",
            "_________________________________________________________________\n",
            "dropout (Dropout)            (None, 256)               0         \n",
            "_________________________________________________________________\n",
            "dense_1 (Dense)              (None, 2)                 514       \n",
            "=================================================================\n",
            "Total params: 17,162,114\n",
            "Trainable params: 17,162,114\n",
            "Non-trainable params: 0\n",
            "_________________________________________________________________\n"
          ],
          "name": "stdout"
        }
      ]
    },
    {
      "cell_type": "code",
      "metadata": {
        "id": "gTSSIPThjR6p",
        "colab_type": "code",
        "colab": {}
      },
      "source": [
        "from tensorflow.keras.losses import SparseCategoricalCrossentropy\n",
        "model.compile(loss=SparseCategoricalCrossentropy(),\n",
        "       optimizer=\"adam\",\n",
        "       metrics=[\"accuracy\"])"
      ],
      "execution_count": 11,
      "outputs": []
    },
    {
      "cell_type": "code",
      "metadata": {
        "id": "R0doTPn8jn7E",
        "colab_type": "code",
        "colab": {
          "base_uri": "https://localhost:8080/",
          "height": 269
        },
        "outputId": "80cbe139-e4c7-4a68-b412-60703009203b"
      },
      "source": [
        "from tensorflow.keras.callbacks import EarlyStopping, ModelCheckpoint\n",
        "callbacks = [\n",
        "    ModelCheckpoint(\"embedding.h5\", save_best_only=True),\n",
        "    EarlyStopping(patience=5, restore_best_weights=True)       \n",
        "]\n",
        "model.fit(x_train_pad, \n",
        "     y_train, \n",
        "     batch_size=200,\n",
        "     validation_split=0.1,\n",
        "     epochs=50,\n",
        "     verbose=2,\n",
        "     callbacks=callbacks)"
      ],
      "execution_count": 12,
      "outputs": [
        {
          "output_type": "stream",
          "text": [
            "Epoch 1/50\n",
            "113/113 - 7s - loss: 0.6176 - accuracy: 0.6883 - val_loss: 0.4965 - val_accuracy: 0.7620\n",
            "Epoch 2/50\n",
            "113/113 - 7s - loss: 0.2285 - accuracy: 0.9098 - val_loss: 0.2327 - val_accuracy: 0.9112\n",
            "Epoch 3/50\n",
            "113/113 - 6s - loss: 0.0985 - accuracy: 0.9692 - val_loss: 0.4127 - val_accuracy: 0.8396\n",
            "Epoch 4/50\n",
            "113/113 - 6s - loss: 0.0255 - accuracy: 0.9959 - val_loss: 0.4809 - val_accuracy: 0.8476\n",
            "Epoch 5/50\n",
            "113/113 - 6s - loss: 0.0061 - accuracy: 0.9996 - val_loss: 0.7461 - val_accuracy: 0.8008\n",
            "Epoch 6/50\n",
            "113/113 - 6s - loss: 0.0025 - accuracy: 0.9999 - val_loss: 0.6476 - val_accuracy: 0.8368\n",
            "Epoch 7/50\n",
            "113/113 - 6s - loss: 0.0012 - accuracy: 0.9999 - val_loss: 0.6720 - val_accuracy: 0.8396\n"
          ],
          "name": "stdout"
        },
        {
          "output_type": "execute_result",
          "data": {
            "text/plain": [
              "<tensorflow.python.keras.callbacks.History at 0x7ff58dc47f28>"
            ]
          },
          "metadata": {
            "tags": []
          },
          "execution_count": 12
        }
      ]
    },
    {
      "cell_type": "code",
      "metadata": {
        "id": "25_FFF46k3mH",
        "colab_type": "code",
        "colab": {
          "base_uri": "https://localhost:8080/",
          "height": 50
        },
        "outputId": "d06dca9f-b5a4-4cac-dbe8-948fcd38b3a8"
      },
      "source": [
        "model.evaluate(x_test_pad,y_test)"
      ],
      "execution_count": 13,
      "outputs": [
        {
          "output_type": "stream",
          "text": [
            "782/782 [==============================] - 4s 6ms/step - loss: 0.3102 - accuracy: 0.8682\n"
          ],
          "name": "stdout"
        },
        {
          "output_type": "execute_result",
          "data": {
            "text/plain": [
              "[0.3102048635482788, 0.8682399988174438]"
            ]
          },
          "metadata": {
            "tags": []
          },
          "execution_count": 13
        }
      ]
    },
    {
      "cell_type": "code",
      "metadata": {
        "id": "FBo_1I1HDK2S",
        "colab_type": "code",
        "colab": {
          "base_uri": "https://localhost:8080/",
          "height": 101
        },
        "outputId": "b1399106-1de1-4009-c7fc-2d62b6960e0b"
      },
      "source": [
        "model.layers"
      ],
      "execution_count": 15,
      "outputs": [
        {
          "output_type": "execute_result",
          "data": {
            "text/plain": [
              "[<tensorflow.python.keras.layers.embeddings.Embedding at 0x7ff58e192f60>,\n",
              " <tensorflow.python.keras.layers.core.Flatten at 0x7ff58e19b908>,\n",
              " <tensorflow.python.keras.layers.core.Dense at 0x7ff58e19bd68>,\n",
              " <tensorflow.python.keras.layers.core.Dropout at 0x7ff58e19b3c8>,\n",
              " <tensorflow.python.keras.layers.core.Dense at 0x7ff58e1906d8>]"
            ]
          },
          "metadata": {
            "tags": []
          },
          "execution_count": 15
        }
      ]
    },
    {
      "cell_type": "code",
      "metadata": {
        "id": "idUAjsMvDMvD",
        "colab_type": "code",
        "colab": {
          "base_uri": "https://localhost:8080/",
          "height": 185
        },
        "outputId": "556e139a-c10e-409e-f93c-ed69326f6193"
      },
      "source": [
        "#get_weights / set_weights\n",
        "embedding = [Embedding(INPUT_DIM,OUTPUT_DIM,mask_zero=True)]\n",
        "w = model.layers[0].get_weights()\n",
        "partial = Sequential(embedding)\n",
        "partial.layers[0].set_weights(w)\n",
        "partial.summary()"
      ],
      "execution_count": 20,
      "outputs": [
        {
          "output_type": "stream",
          "text": [
            "Model: \"sequential_1\"\n",
            "_________________________________________________________________\n",
            "Layer (type)                 Output Shape              Param #   \n",
            "=================================================================\n",
            "embedding_1 (Embedding)      (None, None, 128)         384128    \n",
            "=================================================================\n",
            "Total params: 384,128\n",
            "Trainable params: 384,128\n",
            "Non-trainable params: 0\n",
            "_________________________________________________________________\n"
          ],
          "name": "stdout"
        }
      ]
    },
    {
      "cell_type": "code",
      "metadata": {
        "id": "PfDcwpb4DvLW",
        "colab_type": "code",
        "colab": {
          "base_uri": "https://localhost:8080/",
          "height": 386
        },
        "outputId": "173a0dea-02a6-4207-9fd6-8a6f7e7829a7"
      },
      "source": [
        "result = partial.predict([tok.word_index[\"bill\"]])\n",
        "# result.shape\n",
        "print(\"bill\",result[0][0])"
      ],
      "execution_count": 23,
      "outputs": [
        {
          "output_type": "stream",
          "text": [
            "bill [ 0.01130736  0.06393312  0.0458255  -0.03482448  0.04902972 -0.07412259\n",
            "  0.00630185 -0.02319884 -0.01342133  0.01104096  0.03637387 -0.01766019\n",
            "  0.04585786  0.00265338 -0.03859228  0.02406016  0.00619754  0.01956462\n",
            "  0.01176043  0.01289857 -0.01995924  0.00321578 -0.03706566 -0.01600274\n",
            " -0.01385859  0.02033044  0.03973928 -0.01430763 -0.04980838  0.01309306\n",
            "  0.02556567 -0.06022691  0.0227276   0.02144845  0.03711756  0.03645701\n",
            "  0.0325487  -0.00391685  0.03861398 -0.00175148  0.0461261   0.01741857\n",
            "  0.04588004  0.05636195  0.02605402 -0.02722621  0.04103832  0.0087849\n",
            "  0.03956901 -0.01034862  0.06194917  0.01646869  0.02881394 -0.00501989\n",
            " -0.05506978 -0.02977407  0.0016124   0.0024848   0.00466052  0.03440768\n",
            " -0.00372429  0.01440254  0.00340051  0.01062447  0.00324282  0.02043873\n",
            "  0.01522046 -0.04907376  0.0040732   0.02806294  0.03177455  0.03005659\n",
            "  0.03660202  0.03306181  0.04891566  0.05320244 -0.01877322  0.00253434\n",
            "  0.00543627  0.08187457  0.01734823  0.006911    0.00911005  0.04588106\n",
            "  0.02450321  0.00599583 -0.00427882  0.02451919 -0.00214647 -0.01511178\n",
            " -0.02707594  0.02126283 -0.03227643  0.06316029 -0.02561081 -0.0503225\n",
            " -0.05310204  0.02823013  0.01951035 -0.02674595 -0.067278   -0.00912864\n",
            "  0.07168565  0.02723852  0.0375822   0.03900343  0.0483556  -0.04372977\n",
            "  0.00680177 -0.03535791 -0.03014037  0.02888691 -0.04604647  0.01296508\n",
            " -0.01780623  0.03294371  0.03624053 -0.03029199  0.02641452  0.05403363\n",
            " -0.06615764  0.0437189   0.00420933  0.02518376 -0.06689338 -0.01966765\n",
            " -0.00941875  0.02564525]\n"
          ],
          "name": "stdout"
        }
      ]
    }
  ]
}