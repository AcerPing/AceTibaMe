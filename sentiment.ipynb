{
  "nbformat": 4,
  "nbformat_minor": 0,
  "metadata": {
    "colab": {
      "name": "sentiment.ipynb",
      "provenance": [],
      "collapsed_sections": [],
      "include_colab_link": true
    },
    "kernelspec": {
      "name": "python3",
      "display_name": "Python 3"
    },
    "accelerator": "GPU"
  },
  "cells": [
    {
      "cell_type": "markdown",
      "metadata": {
        "id": "view-in-github",
        "colab_type": "text"
      },
      "source": [
        "<a href=\"https://colab.research.google.com/github/AcerPing/AceTibaMe/blob/master/sentiment.ipynb\" target=\"_parent\"><img src=\"https://colab.research.google.com/assets/colab-badge.svg\" alt=\"Open In Colab\"/></a>"
      ]
    },
    {
      "cell_type": "code",
      "metadata": {
        "id": "ZR8DRVTuHP4V",
        "colab_type": "code",
        "colab": {}
      },
      "source": [
        "import tensorflow as tf\n",
        "\n",
        "dataset = tf.keras.utils.get_file(\n",
        "    fname=\"aclImdb.tar.gz\", \n",
        "    origin=\"http://ai.stanford.edu/~amaas/data/sentiment/aclImdb_v1.tar.gz\", \n",
        "    extract=True,\n",
        ")"
      ],
      "execution_count": null,
      "outputs": []
    },
    {
      "cell_type": "code",
      "metadata": {
        "id": "IZG93ZJaJURL",
        "colab_type": "code",
        "colab": {}
      },
      "source": [
        "import os \n",
        "import glob\n",
        "import pandas as pd\n",
        "\n",
        "def getdata(mid):\n",
        "  dn = os.path.dirname(dataset)\n",
        "  posfn = glob.glob(os.path.join(dn,\"aclImdb\",mid,\"pos\",\"*\"))\n",
        "  negfn = glob.glob(os.path.join(dn,\"aclImdb\",mid,\"neg\",\"*\"))\n",
        "  contents = []\n",
        "  for fn in posfn + negfn:\n",
        "    with open(fn,encoding=\"utf-8\") as f:\n",
        "      contents.append(f.read())\n",
        "  df = pd.DataFrame({\n",
        "      \"content\":contents,\n",
        "      \"sentiment\":[1]*len(posfn) + [0]*len(negfn)})\n",
        "  return df\n",
        "\n",
        "\n"
      ],
      "execution_count": null,
      "outputs": []
    },
    {
      "cell_type": "code",
      "metadata": {
        "id": "UYk4jNMQLUgH",
        "colab_type": "code",
        "colab": {}
      },
      "source": [
        "train_df = getdata(\"train\")\n",
        "test_df = getdata(\"test\")\n",
        "train_df\n",
        "# test_df"
      ],
      "execution_count": null,
      "outputs": []
    },
    {
      "cell_type": "code",
      "metadata": {
        "id": "cduJzIgSL509",
        "colab_type": "code",
        "colab": {}
      },
      "source": [
        "dataset"
      ],
      "execution_count": null,
      "outputs": []
    },
    {
      "cell_type": "code",
      "metadata": {
        "id": "jJHTNyHIYb1x",
        "colab_type": "code",
        "colab": {}
      },
      "source": [
        "#Tokenizer:把詞化成數字\n",
        "from tensorflow.keras.preprocessing.text import Tokenizer\n",
        "tok = Tokenizer(num_words=3000)\n",
        "tok.fit_on_texts(train_df[\"content\"])"
      ],
      "execution_count": null,
      "outputs": []
    },
    {
      "cell_type": "code",
      "metadata": {
        "id": "6Y48lC_dZLTh",
        "colab_type": "code",
        "colab": {}
      },
      "source": [
        "#0不要用掉，0是拿來padding的\n",
        "tok.word_index"
      ],
      "execution_count": null,
      "outputs": []
    },
    {
      "cell_type": "code",
      "metadata": {
        "id": "ie4mPL1MZvpi",
        "colab_type": "code",
        "colab": {}
      },
      "source": [
        "#sequences:數字序列\n",
        "x_train_seq = tok.texts_to_sequences(train_df[\"content\"])\n",
        "x_test_seq = tok.texts_to_sequences(test_df[\"content\"])\n",
        "pd.DataFrame(x_train_seq)"
      ],
      "execution_count": null,
      "outputs": []
    },
    {
      "cell_type": "code",
      "metadata": {
        "id": "Fs9ZnqFvd0_1",
        "colab_type": "code",
        "colab": {}
      },
      "source": [
        "#截長補短到每一篇文章都是同樣詞數\n",
        "from tensorflow.keras.preprocessing.sequence import pad_sequences\n",
        "x_train_pad = pad_sequences(x_train_seq, maxlen=512)\n",
        "x_test_pad = pad_sequences(x_test_seq, maxlen=512)\n",
        "pd.DataFrame(x_train_pad)"
      ],
      "execution_count": null,
      "outputs": []
    },
    {
      "cell_type": "code",
      "metadata": {
        "id": "yWpeZVTNfRCh",
        "colab_type": "code",
        "colab": {}
      },
      "source": [
        "import numpy as np\n",
        "y_train = np.array(train_df[\"sentiment\"])\n",
        "y_test = np.array(test_df[\"sentiment\"])"
      ],
      "execution_count": 17,
      "outputs": []
    },
    {
      "cell_type": "code",
      "metadata": {
        "id": "zDGOJQ8qfeLV",
        "colab_type": "code",
        "colab": {
          "base_uri": "https://localhost:8080/",
          "height": 319
        },
        "outputId": "bea2a41d-e67e-4df8-c280-840af9781270"
      },
      "source": [
        "from tensorflow.keras.models import Sequential\n",
        "from tensorflow.keras.layers import Dense,Flatten,Embedding,Dropout\n",
        "INPUT_DIM = 3001\n",
        "OUTPUT_DIM = 128\n",
        "INPUT_LENGTH = 512\n",
        "layers = [Embedding(INPUT_DIM,OUTPUT_DIM,mask_zero=True,input_length=INPUT_LENGTH),\n",
        "      Flatten(),\n",
        "      Dense(256,activation=\"relu\"),\n",
        "      Dropout(0.25),\n",
        "      Dense(2,activation=\"softmax\")]\n",
        "model = Sequential(layers)\n",
        "model.summary()"
      ],
      "execution_count": 18,
      "outputs": [
        {
          "output_type": "stream",
          "text": [
            "Model: \"sequential_1\"\n",
            "_________________________________________________________________\n",
            "Layer (type)                 Output Shape              Param #   \n",
            "=================================================================\n",
            "embedding_2 (Embedding)      (None, 512, 128)          384128    \n",
            "_________________________________________________________________\n",
            "flatten_2 (Flatten)          (None, 65536)             0         \n",
            "_________________________________________________________________\n",
            "dense_4 (Dense)              (None, 256)               16777472  \n",
            "_________________________________________________________________\n",
            "dropout_2 (Dropout)          (None, 256)               0         \n",
            "_________________________________________________________________\n",
            "dense_5 (Dense)              (None, 2)                 514       \n",
            "=================================================================\n",
            "Total params: 17,162,114\n",
            "Trainable params: 17,162,114\n",
            "Non-trainable params: 0\n",
            "_________________________________________________________________\n"
          ],
          "name": "stdout"
        }
      ]
    },
    {
      "cell_type": "code",
      "metadata": {
        "id": "gTSSIPThjR6p",
        "colab_type": "code",
        "colab": {}
      },
      "source": [
        "from tensorflow.keras.losses import SparseCategoricalCrossentropy\n",
        "model.compile(loss=SparseCategoricalCrossentropy(),\n",
        "       optimizer=\"adam\",\n",
        "       metrics=[\"accuracy\"])"
      ],
      "execution_count": 19,
      "outputs": []
    },
    {
      "cell_type": "code",
      "metadata": {
        "id": "R0doTPn8jn7E",
        "colab_type": "code",
        "colab": {
          "base_uri": "https://localhost:8080/",
          "height": 269
        },
        "outputId": "98e01359-60b5-45e4-ac3d-7c51c13ba6a1"
      },
      "source": [
        "from tensorflow.keras.callbacks import EarlyStopping, ModelCheckpoint\n",
        "callbacks = [\n",
        "    ModelCheckpoint(\"embedding.h5\", save_best_only=True),\n",
        "    EarlyStopping(patience=5, restore_best_weights=True)       \n",
        "]\n",
        "model.fit(x_train_pad, \n",
        "     y_train, \n",
        "     batch_size=200,\n",
        "     validation_split=0.1,\n",
        "     epochs=50,\n",
        "     verbose=2,\n",
        "     callbacks=callbacks)"
      ],
      "execution_count": 20,
      "outputs": [
        {
          "output_type": "stream",
          "text": [
            "Epoch 1/50\n",
            "113/113 - 7s - loss: 0.6698 - accuracy: 0.6885 - val_loss: 0.4025 - val_accuracy: 0.8144\n",
            "Epoch 2/50\n",
            "113/113 - 7s - loss: 0.2189 - accuracy: 0.9144 - val_loss: 0.3652 - val_accuracy: 0.8388\n",
            "Epoch 3/50\n",
            "113/113 - 6s - loss: 0.0906 - accuracy: 0.9723 - val_loss: 0.5351 - val_accuracy: 0.8036\n",
            "Epoch 4/50\n",
            "113/113 - 6s - loss: 0.0222 - accuracy: 0.9967 - val_loss: 0.6132 - val_accuracy: 0.8152\n",
            "Epoch 5/50\n",
            "113/113 - 6s - loss: 0.0052 - accuracy: 0.9997 - val_loss: 0.5609 - val_accuracy: 0.8432\n",
            "Epoch 6/50\n",
            "113/113 - 6s - loss: 0.0018 - accuracy: 1.0000 - val_loss: 0.6595 - val_accuracy: 0.8368\n",
            "Epoch 7/50\n",
            "113/113 - 6s - loss: 9.1679e-04 - accuracy: 1.0000 - val_loss: 0.6941 - val_accuracy: 0.8388\n"
          ],
          "name": "stdout"
        },
        {
          "output_type": "execute_result",
          "data": {
            "text/plain": [
              "<tensorflow.python.keras.callbacks.History at 0x7f0df01696d8>"
            ]
          },
          "metadata": {
            "tags": []
          },
          "execution_count": 20
        }
      ]
    },
    {
      "cell_type": "code",
      "metadata": {
        "id": "25_FFF46k3mH",
        "colab_type": "code",
        "colab": {
          "base_uri": "https://localhost:8080/",
          "height": 50
        },
        "outputId": "eca05e51-ac06-48f7-8f4e-a9bc5ec7feee"
      },
      "source": [
        "model.evaluate(x_test_pad,y_test)"
      ],
      "execution_count": 21,
      "outputs": [
        {
          "output_type": "stream",
          "text": [
            "782/782 [==============================] - 5s 7ms/step - loss: 0.2965 - accuracy: 0.8754\n"
          ],
          "name": "stdout"
        },
        {
          "output_type": "execute_result",
          "data": {
            "text/plain": [
              "[0.29646989703178406, 0.8753600120544434]"
            ]
          },
          "metadata": {
            "tags": []
          },
          "execution_count": 21
        }
      ]
    }
  ]
}