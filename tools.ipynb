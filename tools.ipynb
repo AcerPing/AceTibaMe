{
  "nbformat": 4,
  "nbformat_minor": 0,
  "metadata": {
    "colab": {
      "name": "tools.ipynb",
      "provenance": [],
      "collapsed_sections": [],
      "authorship_tag": "ABX9TyMakpJPGJMxlAVT2D4bT3zN",
      "include_colab_link": true
    },
    "kernelspec": {
      "name": "python3",
      "display_name": "Python 3"
    }
  },
  "cells": [
    {
      "cell_type": "markdown",
      "metadata": {
        "id": "view-in-github",
        "colab_type": "text"
      },
      "source": [
        "<a href=\"https://colab.research.google.com/github/AcerPing/AceTibaMe/blob/master/tools.ipynb\" target=\"_parent\"><img src=\"https://colab.research.google.com/assets/colab-badge.svg\" alt=\"Open In Colab\"/></a>"
      ]
    },
    {
      "cell_type": "code",
      "metadata": {
        "id": "TpJ38ZgdYnmR",
        "colab_type": "code",
        "colab": {
          "base_uri": "https://localhost:8080/",
          "height": 34
        },
        "outputId": "64b3d3bb-92d4-4737-f0f9-c75906e65550"
      },
      "source": [
        "!pip install opencc-python-reimplemented\n"
      ],
      "execution_count": 1,
      "outputs": [
        {
          "output_type": "stream",
          "text": [
            "Requirement already satisfied: opencc-python-reimplemented in /usr/local/lib/python3.6/dist-packages (0.1.6)\n"
          ],
          "name": "stdout"
        }
      ]
    },
    {
      "cell_type": "code",
      "metadata": {
        "id": "AgcpC0m0ZdJv",
        "colab_type": "code",
        "colab": {
          "base_uri": "https://localhost:8080/",
          "height": 35
        },
        "outputId": "ac37fe37-f584-4eb3-ac65-606044c5232c"
      },
      "source": [
        "from opencc import OpenCC\n",
        "cc = OpenCC('s2twp')  # convert from Simplified Chinese to Traditional Chinese\n",
        "# can also set conversion by calling set_conversion\n",
        "# cc.set_conversion('s2tw')\n",
        "to_convert = \"\"\"台湾人现在书写书面文章\n",
        "是用简体中文还是繁体中文？\"\"\"\n",
        "converted = cc.convert(to_convert)\n",
        "converted"
      ],
      "execution_count": 2,
      "outputs": [
        {
          "output_type": "execute_result",
          "data": {
            "application/vnd.google.colaboratory.intrinsic": {
              "type": "string"
            },
            "text/plain": [
              "'臺灣人現在書寫書面文章\\n是用簡體中文還是繁體中文？'"
            ]
          },
          "metadata": {
            "tags": []
          },
          "execution_count": 2
        }
      ]
    },
    {
      "cell_type": "code",
      "metadata": {
        "id": "1dbrYpZkcE-F",
        "colab_type": "code",
        "colab": {}
      },
      "source": [
        "news = \"\"\"〔即時新聞／綜合報導〕英國外交大臣拉布（Dominic Raab）20日在國會宣布，英國即刻起「無限期」中止與香港的引渡條約。同時也宣布，英國將把對中國的武器禁運擴大到香港。\n",
        "\n",
        "綜合外媒報導，北京對前英國殖民地香港實施了有爭議的新國家安全法，引發國際撻伐。英國外交大臣拉布今日宣布，無限期中止與香港的引渡條約，他指出，中國在香港實施國家安全法「明顯並嚴重違反了英中聯合聲明」。\n",
        "\n",
        "加拿大和澳洲已中止了與香港的引渡條約，而美國也準備採行類似措施。\"\"\""
      ],
      "execution_count": 3,
      "outputs": []
    },
    {
      "cell_type": "code",
      "metadata": {
        "id": "MTLNoQG1a2AJ",
        "colab_type": "code",
        "colab": {
          "base_uri": "https://localhost:8080/",
          "height": 136
        },
        "outputId": "52c05551-3d8d-4f92-8075-d6c14adcf9f4"
      },
      "source": [
        "import jieba\n",
        "from urllib.request import urlretrieve\n",
        "# 偶爾: list(jieba.cut(news))\n",
        "url = \"https://github.com/fxsjy/jieba/raw/master/extra_dict/dict.txt.big\"\n",
        "urlretrieve(url,\"dict.txt.big\")\n",
        "jieba.set_dictionary(\"dict.txt.big\")\n",
        "jieba.load_userdict(\"mydict.txt\")\n",
        "\" \".join(jieba.cut(news))\n"
      ],
      "execution_count": 4,
      "outputs": [
        {
          "output_type": "stream",
          "text": [
            "Building prefix dict from /content/dict.txt.big ...\n",
            "Dumping model to file cache /tmp/jieba.u501edca284da514cb68b53a20324f4e3.cache\n",
            "Loading model cost 1.692 seconds.\n",
            "Prefix dict has been built successfully.\n"
          ],
          "name": "stderr"
        },
        {
          "output_type": "execute_result",
          "data": {
            "application/vnd.google.colaboratory.intrinsic": {
              "type": "string"
            },
            "text/plain": [
              "'〔 即時新聞 ／ 綜合 報導 〕 英國 外交大臣 拉布 （ Dominic   Raab ） 20 日 在 國會 宣布 ， 英國 即刻起 「 無限期 」 中止 與 香港 的 引渡條約 。 同時 也 宣布 ， 英國 將把 對 中國 的 武器禁運 擴大 到 香港 。 \\n \\n 綜合 外媒 報導 ， 北京 對前 英國 殖民地 香港 實施 了 有 爭議 的 新 國家 安全法 ， 引發 國際 撻伐 。 英國 外交大臣 拉布 今日 宣布 ， 無限期 中止 與 香港 的 引渡條約 ， 他 指出 ， 中國 在 香港 實施 國家 安全法 「 明顯 並 嚴重 違反 了 英中聯合聲明 」 。 \\n \\n 加拿大 和澳洲 已 中止 了 與 香港 的 引渡條約 ， 而 美國 也 準備 採行 類似 措施 。'"
            ]
          },
          "metadata": {
            "tags": []
          },
          "execution_count": 4
        }
      ]
    },
    {
      "cell_type": "code",
      "metadata": {
        "id": "cCZ8aEts9cXp",
        "colab_type": "code",
        "colab": {
          "base_uri": "https://localhost:8080/",
          "height": 353
        },
        "outputId": "d2f99a87-8c0b-44fa-9210-41b0aadbfc56"
      },
      "source": [
        "import jieba.analyse\n",
        "url = \"https://github.com/fxsjy/jieba/blob/master/extra_dict/idf.txt.big\"\n",
        "urlretrieve(url,\"idf.txt.big\")\n",
        "jieba.analyse.set_idf_path(\"idf.txt.big\")\n",
        "jieba.analyse.extract_tags(news)"
      ],
      "execution_count": 7,
      "outputs": [
        {
          "output_type": "execute_result",
          "data": {
            "text/plain": [
              "['香港',\n",
              " '英國',\n",
              " '宣布',\n",
              " '中止',\n",
              " '引渡條約',\n",
              " '綜合',\n",
              " '報導',\n",
              " '外交大臣',\n",
              " '拉布',\n",
              " '無限期',\n",
              " '中國',\n",
              " '實施',\n",
              " '國家',\n",
              " '安全法',\n",
              " '即時新聞',\n",
              " 'Dominic',\n",
              " 'Raab',\n",
              " '20',\n",
              " '國會',\n",
              " '即刻起']"
            ]
          },
          "metadata": {
            "tags": []
          },
          "execution_count": 7
        }
      ]
    }
  ]
}