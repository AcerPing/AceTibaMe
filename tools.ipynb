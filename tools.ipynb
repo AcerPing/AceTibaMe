{
  "nbformat": 4,
  "nbformat_minor": 0,
  "metadata": {
    "colab": {
      "name": "tools.ipynb",
      "provenance": [],
      "collapsed_sections": [],
      "mount_file_id": "1cFB63ctuf7-CSM8y7WmUqhifFhQPNJgI",
      "authorship_tag": "ABX9TyN/MFdfoKi+09Yn8Iar2uGT",
      "include_colab_link": true
    },
    "kernelspec": {
      "name": "python3",
      "display_name": "Python 3"
    }
  },
  "cells": [
    {
      "cell_type": "markdown",
      "metadata": {
        "id": "view-in-github",
        "colab_type": "text"
      },
      "source": [
        "<a href=\"https://colab.research.google.com/github/AcerPing/AceTibaMe/blob/master/tools.ipynb\" target=\"_parent\"><img src=\"https://colab.research.google.com/assets/colab-badge.svg\" alt=\"Open In Colab\"/></a>"
      ]
    },
    {
      "cell_type": "code",
      "metadata": {
        "id": "TpJ38ZgdYnmR",
        "colab_type": "code",
        "colab": {
          "base_uri": "https://localhost:8080/",
          "height": 34
        },
        "outputId": "5b7beb5f-8ab6-46e3-e768-99419f848c9b"
      },
      "source": [
        "!pip install opencc-python-reimplemented\n"
      ],
      "execution_count": 1,
      "outputs": [
        {
          "output_type": "stream",
          "text": [
            "Requirement already satisfied: opencc-python-reimplemented in /usr/local/lib/python3.6/dist-packages (0.1.6)\n"
          ],
          "name": "stdout"
        }
      ]
    },
    {
      "cell_type": "code",
      "metadata": {
        "id": "AgcpC0m0ZdJv",
        "colab_type": "code",
        "colab": {
          "base_uri": "https://localhost:8080/",
          "height": 35
        },
        "outputId": "9eb106d1-c2d8-4168-be00-56e43fab5a4e"
      },
      "source": [
        "from opencc import OpenCC\n",
        "cc = OpenCC('s2twp')  # convert from Simplified Chinese to Traditional Chinese\n",
        "# can also set conversion by calling set_conversion\n",
        "# cc.set_conversion('s2tw')\n",
        "to_convert = \"\"\"台湾人现在书写书面文章\n",
        "是用简体中文还是繁体中文？\"\"\"\n",
        "converted = cc.convert(to_convert)\n",
        "converted"
      ],
      "execution_count": 2,
      "outputs": [
        {
          "output_type": "execute_result",
          "data": {
            "application/vnd.google.colaboratory.intrinsic": {
              "type": "string"
            },
            "text/plain": [
              "'臺灣人現在書寫書面文章\\n是用簡體中文還是繁體中文？'"
            ]
          },
          "metadata": {
            "tags": []
          },
          "execution_count": 2
        }
      ]
    },
    {
      "cell_type": "code",
      "metadata": {
        "id": "1dbrYpZkcE-F",
        "colab_type": "code",
        "colab": {}
      },
      "source": [
        "news = \"\"\"〔即時新聞／綜合報導〕英國外交大臣拉布（Dominic Raab）20日在國會宣布，英國即刻起「無限期」中止與香港的引渡條約。同時也宣布，英國將把對中國的武器禁運擴大到香港。\n",
        "\n",
        "綜合外媒報導，北京對前英國殖民地香港實施了有爭議的新國家安全法，引發國際撻伐。英國外交大臣拉布今日宣布，無限期中止與香港的引渡條約，他指出，中國在香港實施國家安全法「明顯並嚴重違反了英中聯合聲明」。\n",
        "\n",
        "加拿大和澳洲已中止了與香港的引渡條約，而美國也準備採行類似措施。\"\"\""
      ],
      "execution_count": 3,
      "outputs": []
    },
    {
      "cell_type": "code",
      "metadata": {
        "id": "MTLNoQG1a2AJ",
        "colab_type": "code",
        "colab": {
          "base_uri": "https://localhost:8080/",
          "height": 153
        },
        "outputId": "9d3ebdc2-8b24-4f8c-de97-c607b75f8101"
      },
      "source": [
        "import jieba\n",
        "from urllib.request import urlretrieve\n",
        "# 偶爾: list(jieba.cut(news))\n",
        "url = \"https://github.com/fxsjy/jieba/raw/master/extra_dict/dict.txt.big\"\n",
        "urlretrieve(url,\"dict.txt.big\")\n",
        "jieba.set_dictionary(\"dict.txt.big\")\n",
        "jieba.load_userdict(\"mydict.txt\")\n",
        "\" \".join(jieba.cut(news))\n"
      ],
      "execution_count": 4,
      "outputs": [
        {
          "output_type": "stream",
          "text": [
            "Building prefix dict from /content/dict.txt.big ...\n",
            "Dumping model to file cache /tmp/jieba.u501edca284da514cb68b53a20324f4e3.cache\n",
            "Loading model cost 1.501 seconds.\n",
            "Prefix dict has been built successfully.\n"
          ],
          "name": "stderr"
        },
        {
          "output_type": "execute_result",
          "data": {
            "application/vnd.google.colaboratory.intrinsic": {
              "type": "string"
            },
            "text/plain": [
              "'〔 即時新聞 ／ 綜合 報導 〕 英國 外交大臣 拉布 （ Dominic   Raab ） 20 日 在 國會 宣布 ， 英國 即刻起 「 無限期 」 中止 與 香港 的 引渡條約 。 同時 也 宣布 ， 英國 將把 對 中國 的 武器禁運 擴大 到 香港 。 \\n \\n 綜合 外媒 報導 ， 北京 對前 英國 殖民地 香港 實施 了 有 爭議 的 新 國家 安全法 ， 引發 國際 撻伐 。 英國 外交大臣 拉布 今日 宣布 ， 無限期 中止 與 香港 的 引渡條約 ， 他 指出 ， 中國 在 香港 實施 國家 安全法 「 明顯 並 嚴重 違反 了 英中聯合聲明 」 。 \\n \\n 加拿大 和澳洲 已 中止 了 與 香港 的 引渡條約 ， 而 美國 也 準備 採行 類似 措施 。'"
            ]
          },
          "metadata": {
            "tags": []
          },
          "execution_count": 4
        }
      ]
    },
    {
      "cell_type": "code",
      "metadata": {
        "id": "cCZ8aEts9cXp",
        "colab_type": "code",
        "colab": {
          "base_uri": "https://localhost:8080/",
          "height": 353
        },
        "outputId": "b142bf95-152a-4ada-b70a-d153f1373141"
      },
      "source": [
        "import jieba.analyse\n",
        "url = \"https://github.com/fxsjy/jieba/blob/master/extra_dict/idf.txt.big\"\n",
        "urlretrieve(url,\"idf.txt.big\")\n",
        "jieba.analyse.set_idf_path(\"idf.txt.big\")\n",
        "jieba.analyse.extract_tags(news)"
      ],
      "execution_count": 6,
      "outputs": [
        {
          "output_type": "execute_result",
          "data": {
            "text/plain": [
              "['香港',\n",
              " '英國',\n",
              " '宣布',\n",
              " '中止',\n",
              " '引渡條約',\n",
              " '綜合',\n",
              " '報導',\n",
              " '外交大臣',\n",
              " '拉布',\n",
              " '無限期',\n",
              " '中國',\n",
              " '實施',\n",
              " '國家',\n",
              " '安全法',\n",
              " '即時新聞',\n",
              " 'Dominic',\n",
              " 'Raab',\n",
              " '20',\n",
              " '國會',\n",
              " '即刻起']"
            ]
          },
          "metadata": {
            "tags": []
          },
          "execution_count": 6
        }
      ]
    },
    {
      "cell_type": "code",
      "metadata": {
        "id": "0CIpq1FVAgqn",
        "colab_type": "code",
        "colab": {
          "base_uri": "https://localhost:8080/",
          "height": 34
        },
        "outputId": "2e5724db-7817-4c27-baff-5275c489551c"
      },
      "source": [
        "from urllib.request import urlretrieve\n",
        "url = \"https://github.com/Elwing-Chou/ml0716/raw/master/poem_train.csv\"\n",
        "urlretrieve(url,\"train.csv\")\n",
        "url = \"https://github.com/Elwing-Chou/ml0716/raw/master/poem_test.csv\"\n",
        "urlretrieve(url,\"test.csv\")"
      ],
      "execution_count": 7,
      "outputs": [
        {
          "output_type": "execute_result",
          "data": {
            "text/plain": [
              "('test.csv', <http.client.HTTPMessage at 0x7f7ee0909470>)"
            ]
          },
          "metadata": {
            "tags": []
          },
          "execution_count": 7
        }
      ]
    },
    {
      "cell_type": "code",
      "metadata": {
        "id": "EVxJc2NmBlGW",
        "colab_type": "code",
        "colab": {
          "base_uri": "https://localhost:8080/",
          "height": 402
        },
        "outputId": "3818cd25-300c-408b-e92a-f576d9d97158"
      },
      "source": [
        "import pandas as pd\n",
        "train_df = pd.read_csv(\"train.csv\",encoding=\"utf-8\")\n",
        "train_df"
      ],
      "execution_count": 8,
      "outputs": [
        {
          "output_type": "execute_result",
          "data": {
            "text/html": [
              "<div>\n",
              "<style scoped>\n",
              "    .dataframe tbody tr th:only-of-type {\n",
              "        vertical-align: middle;\n",
              "    }\n",
              "\n",
              "    .dataframe tbody tr th {\n",
              "        vertical-align: top;\n",
              "    }\n",
              "\n",
              "    .dataframe thead th {\n",
              "        text-align: right;\n",
              "    }\n",
              "</style>\n",
              "<table border=\"1\" class=\"dataframe\">\n",
              "  <thead>\n",
              "    <tr style=\"text-align: right;\">\n",
              "      <th></th>\n",
              "      <th>作者</th>\n",
              "      <th>詩名</th>\n",
              "      <th>內容</th>\n",
              "    </tr>\n",
              "  </thead>\n",
              "  <tbody>\n",
              "    <tr>\n",
              "      <th>0</th>\n",
              "      <td>李白</td>\n",
              "      <td>菩薩蠻·平林漠漠煙如織</td>\n",
              "      <td>平林漠漠煙如織，寒山一帶傷心碧。\\r\\n暝色入高樓，有人樓上愁。玉階空佇立，宿鳥歸飛急。\\r...</td>\n",
              "    </tr>\n",
              "    <tr>\n",
              "      <th>1</th>\n",
              "      <td>李白</td>\n",
              "      <td>把酒問月</td>\n",
              "      <td>青天有月來幾時，我今停杯一問之：人攀明月不可得，月行卻與人相隨？皎如飛鏡臨丹闕，綠煙滅儘清輝...</td>\n",
              "    </tr>\n",
              "    <tr>\n",
              "      <th>2</th>\n",
              "      <td>李白</td>\n",
              "      <td>春思</td>\n",
              "      <td>燕草如碧絲，秦桑低綠枝。當君懷歸日，是妾斷腸時。春風不相識，何事入羅幃。</td>\n",
              "    </tr>\n",
              "    <tr>\n",
              "      <th>3</th>\n",
              "      <td>李白</td>\n",
              "      <td>春夜洛城聞笛</td>\n",
              "      <td>誰家玉笛暗飛聲，散入春風滿洛城。此夜曲中聞折柳，何人不起故園情。</td>\n",
              "    </tr>\n",
              "    <tr>\n",
              "      <th>4</th>\n",
              "      <td>李白</td>\n",
              "      <td>古風 其十九</td>\n",
              "      <td>西上蓮花山，迢迢見明星。(西上 一作：西嶽)素手把芙蓉，虛步躡太清。霓裳曳廣帶，飄拂升天行。...</td>\n",
              "    </tr>\n",
              "    <tr>\n",
              "      <th>...</th>\n",
              "      <td>...</td>\n",
              "      <td>...</td>\n",
              "      <td>...</td>\n",
              "    </tr>\n",
              "    <tr>\n",
              "      <th>2726</th>\n",
              "      <td>白居易</td>\n",
              "      <td>彆元九後詠所懷</td>\n",
              "      <td>零落桐葉雨，蕭條槿花風。悠悠早秋意，生此幽閒中。況與故人彆，中懷正無悰。勿雲不相送，心到青門...</td>\n",
              "    </tr>\n",
              "    <tr>\n",
              "      <th>2727</th>\n",
              "      <td>白居易</td>\n",
              "      <td>早秋曲江感懷</td>\n",
              "      <td>離離暑雲散，嫋嫋涼風起。池上秋又來，荷花半成子。朱顏易銷歇，白日無窮已。人壽不如山，年光急於...</td>\n",
              "    </tr>\n",
              "    <tr>\n",
              "      <th>2728</th>\n",
              "      <td>白居易</td>\n",
              "      <td>東墟晚歇　時退居渭村。</td>\n",
              "      <td>涼風冷露蕭索天，黃蒿紫菊荒涼田。繞塚秋花少顏色，細蟲小蝶飛翻翻。中有騰騰獨行者，手拄漁竿不騎...</td>\n",
              "    </tr>\n",
              "    <tr>\n",
              "      <th>2729</th>\n",
              "      <td>白居易</td>\n",
              "      <td>南秦雪</td>\n",
              "      <td>往歲曾為西邑吏，慣從駱口到南秦。\\r\\n三時雲冷多飛雪，二月山寒少有春。\\r\\n我思舊事猶惆...</td>\n",
              "    </tr>\n",
              "    <tr>\n",
              "      <th>2730</th>\n",
              "      <td>白居易</td>\n",
              "      <td>寄蘄州簟與元九因題六韻　時元九鰥居。</td>\n",
              "      <td>笛竹出蘄春，霜刀劈翠筠。織成雙鎖簟，寄與獨眠人。卷作筒中信，舒為席上珍。滑如鋪薤葉，冷似臥龍...</td>\n",
              "    </tr>\n",
              "  </tbody>\n",
              "</table>\n",
              "<p>2731 rows × 3 columns</p>\n",
              "</div>"
            ],
            "text/plain": [
              "       作者  ...                                                 內容\n",
              "0      李白  ...  平林漠漠煙如織，寒山一帶傷心碧。\\r\\n暝色入高樓，有人樓上愁。玉階空佇立，宿鳥歸飛急。\\r...\n",
              "1      李白  ...  青天有月來幾時，我今停杯一問之：人攀明月不可得，月行卻與人相隨？皎如飛鏡臨丹闕，綠煙滅儘清輝...\n",
              "2      李白  ...               燕草如碧絲，秦桑低綠枝。當君懷歸日，是妾斷腸時。春風不相識，何事入羅幃。\n",
              "3      李白  ...                   誰家玉笛暗飛聲，散入春風滿洛城。此夜曲中聞折柳，何人不起故園情。\n",
              "4      李白  ...  西上蓮花山，迢迢見明星。(西上 一作：西嶽)素手把芙蓉，虛步躡太清。霓裳曳廣帶，飄拂升天行。...\n",
              "...   ...  ...                                                ...\n",
              "2726  白居易  ...  零落桐葉雨，蕭條槿花風。悠悠早秋意，生此幽閒中。況與故人彆，中懷正無悰。勿雲不相送，心到青門...\n",
              "2727  白居易  ...  離離暑雲散，嫋嫋涼風起。池上秋又來，荷花半成子。朱顏易銷歇，白日無窮已。人壽不如山，年光急於...\n",
              "2728  白居易  ...  涼風冷露蕭索天，黃蒿紫菊荒涼田。繞塚秋花少顏色，細蟲小蝶飛翻翻。中有騰騰獨行者，手拄漁竿不騎...\n",
              "2729  白居易  ...  往歲曾為西邑吏，慣從駱口到南秦。\\r\\n三時雲冷多飛雪，二月山寒少有春。\\r\\n我思舊事猶惆...\n",
              "2730  白居易  ...  笛竹出蘄春，霜刀劈翠筠。織成雙鎖簟，寄與獨眠人。卷作筒中信，舒為席上珍。滑如鋪薤葉，冷似臥龍...\n",
              "\n",
              "[2731 rows x 3 columns]"
            ]
          },
          "metadata": {
            "tags": []
          },
          "execution_count": 8
        }
      ]
    },
    {
      "cell_type": "code",
      "metadata": {
        "id": "UdEpZejgB_hX",
        "colab_type": "code",
        "colab": {
          "base_uri": "https://localhost:8080/",
          "height": 935
        },
        "outputId": "f9c08ca2-6444-4647-aedb-573c58790e18"
      },
      "source": [
        "train_df = pd.read_csv(\"test.csv\",encoding=\"utf-8\")\n",
        "train_df"
      ],
      "execution_count": 9,
      "outputs": [
        {
          "output_type": "execute_result",
          "data": {
            "text/html": [
              "<div>\n",
              "<style scoped>\n",
              "    .dataframe tbody tr th:only-of-type {\n",
              "        vertical-align: middle;\n",
              "    }\n",
              "\n",
              "    .dataframe tbody tr th {\n",
              "        vertical-align: top;\n",
              "    }\n",
              "\n",
              "    .dataframe thead th {\n",
              "        text-align: right;\n",
              "    }\n",
              "</style>\n",
              "<table border=\"1\" class=\"dataframe\">\n",
              "  <thead>\n",
              "    <tr style=\"text-align: right;\">\n",
              "      <th></th>\n",
              "      <th>作者</th>\n",
              "      <th>詩名</th>\n",
              "      <th>內容</th>\n",
              "    </tr>\n",
              "  </thead>\n",
              "  <tbody>\n",
              "    <tr>\n",
              "      <th>0</th>\n",
              "      <td>李白</td>\n",
              "      <td>望廬山瀑布</td>\n",
              "      <td>日照香爐生紫煙，遙看瀑布掛前川。飛流直下三千尺，疑是銀河落九天。</td>\n",
              "    </tr>\n",
              "    <tr>\n",
              "      <th>1</th>\n",
              "      <td>李白</td>\n",
              "      <td>早發白帝城</td>\n",
              "      <td>朝辭白帝彩雲間，千裡江陵一日還。兩岸猿聲啼不住，輕舟已過萬重山。</td>\n",
              "    </tr>\n",
              "    <tr>\n",
              "      <th>2</th>\n",
              "      <td>李白</td>\n",
              "      <td>贈汪倫</td>\n",
              "      <td>李白乘舟將欲行，忽聞岸上踏歌聲。桃花潭水深千尺，不及汪倫送我情。</td>\n",
              "    </tr>\n",
              "    <tr>\n",
              "      <th>3</th>\n",
              "      <td>李白</td>\n",
              "      <td>送孟浩然之廣陵</td>\n",
              "      <td>故人西辭黃鶴樓，煙花三月下揚州。孤帆遠影碧空儘，唯見長江天際流。</td>\n",
              "    </tr>\n",
              "    <tr>\n",
              "      <th>4</th>\n",
              "      <td>李白</td>\n",
              "      <td>夜宿山寺</td>\n",
              "      <td>危樓高百尺，手可摘星辰。不敢高聲語，恐驚天上人。</td>\n",
              "    </tr>\n",
              "    <tr>\n",
              "      <th>5</th>\n",
              "      <td>李白</td>\n",
              "      <td>靜夜思</td>\n",
              "      <td>床前明月光，疑是地上霜。舉頭望明月，低頭思故鄉。</td>\n",
              "    </tr>\n",
              "    <tr>\n",
              "      <th>6</th>\n",
              "      <td>李白</td>\n",
              "      <td>望天門山</td>\n",
              "      <td>天門中斷楚江開，碧水東流至此回。兩岸青山相對出，孤帆一片日邊來。</td>\n",
              "    </tr>\n",
              "    <tr>\n",
              "      <th>7</th>\n",
              "      <td>李白</td>\n",
              "      <td>獨坐敬亭山</td>\n",
              "      <td>眾鳥高飛儘，孤雲獨去閒。相看兩不厭，隻有敬亭山。</td>\n",
              "    </tr>\n",
              "    <tr>\n",
              "      <th>8</th>\n",
              "      <td>李白</td>\n",
              "      <td>登金陵鳳凰台</td>\n",
              "      <td>鳳凰台上鳳凰遊，鳳去台空江自流。吳宮花草埋幽徑，晉代衣冠成古丘。三山半落青天外，二水中分白鷺...</td>\n",
              "    </tr>\n",
              "    <tr>\n",
              "      <th>9</th>\n",
              "      <td>李白</td>\n",
              "      <td>渡荊門送彆</td>\n",
              "      <td>渡遠荊門外，來從楚國遊。山隨平野儘，江入大荒流。月下飛天境，雲生結海樓。仍憐故鄉水，萬裡送行舟。</td>\n",
              "    </tr>\n",
              "    <tr>\n",
              "      <th>10</th>\n",
              "      <td>杜甫</td>\n",
              "      <td>彆讚上人</td>\n",
              "      <td>百川日東流，客去亦不息。我生苦漂蕩，何時有終極。讚公釋門老，放逐來上國。還為世塵嬰，頗帶憔悴...</td>\n",
              "    </tr>\n",
              "    <tr>\n",
              "      <th>11</th>\n",
              "      <td>杜甫</td>\n",
              "      <td>龍門鎮</td>\n",
              "      <td>細泉兼輕冰，沮洳棧道濕。不辭辛苦行，迫此短景急。石門雪雲隘，古鎮峰巒集。旌竿暮慘澹，風水白刃...</td>\n",
              "    </tr>\n",
              "    <tr>\n",
              "      <th>12</th>\n",
              "      <td>杜甫</td>\n",
              "      <td>木皮嶺</td>\n",
              "      <td>首路栗亭西，尚想鳳凰村。季冬攜童稚，辛苦赴蜀門。南登木皮嶺，艱險不易論。汗流被我體，祁寒為之...</td>\n",
              "    </tr>\n",
              "    <tr>\n",
              "      <th>13</th>\n",
              "      <td>杜甫</td>\n",
              "      <td>落日</td>\n",
              "      <td>落日在簾鉤，溪邊春事幽。芳菲緣岸圃，樵爨倚灘舟。啅雀爭枝墜，飛蟲滿院遊。濁醪誰造汝，一酌散千憂。</td>\n",
              "    </tr>\n",
              "    <tr>\n",
              "      <th>14</th>\n",
              "      <td>杜甫</td>\n",
              "      <td>入奏行贈西山檢察使竇侍禦</td>\n",
              "      <td>竇侍禦，驥之子，鳳之雛。年未三十忠義俱，骨鯁絕代無。炯如一段清冰出萬壑，置在迎風寒露之玉壺。...</td>\n",
              "    </tr>\n",
              "    <tr>\n",
              "      <th>15</th>\n",
              "      <td>杜甫</td>\n",
              "      <td>麗春</td>\n",
              "      <td>百草競春華，麗春應最勝。少須好顏色，多漫枝條剩。紛紛桃李枝，處處總能移。如何貴此重，卻怕有人知。</td>\n",
              "    </tr>\n",
              "    <tr>\n",
              "      <th>16</th>\n",
              "      <td>杜甫</td>\n",
              "      <td>題玄武禪師屋壁</td>\n",
              "      <td>何年顧虎頭，滿壁畫瀛州。赤日石林氣，青天江海流。錫飛常近鶴，杯度不驚鷗。似得廬山路，真隨惠遠遊。</td>\n",
              "    </tr>\n",
              "    <tr>\n",
              "      <th>17</th>\n",
              "      <td>杜甫</td>\n",
              "      <td>謁文公上方</td>\n",
              "      <td>野寺隱喬木，山僧高下居。石門日色異，絳氣橫扶疏。窈窕入風磴，長蘆紛卷舒。庭前猛虎臥，遂得文公...</td>\n",
              "    </tr>\n",
              "    <tr>\n",
              "      <th>18</th>\n",
              "      <td>杜甫</td>\n",
              "      <td>杜鵑</td>\n",
              "      <td>西川有杜鵑，東川無杜鵑。涪萬無杜鵑，雲安有杜鵑。我昔遊錦城，結廬錦水邊。有竹一頃餘，喬木上參...</td>\n",
              "    </tr>\n",
              "    <tr>\n",
              "      <th>19</th>\n",
              "      <td>杜甫</td>\n",
              "      <td>縛雞行</td>\n",
              "      <td>小奴縛雞向市賣，雞被縛急相喧爭。家中厭雞食蟲蟻，不知雞賣還遭烹。蟲雞於人何厚薄，我斥奴人解其...</td>\n",
              "    </tr>\n",
              "    <tr>\n",
              "      <th>20</th>\n",
              "      <td>白居易</td>\n",
              "      <td>聽歌</td>\n",
              "      <td>管妙弦清歌入雲，老人合眼醉醺醺。誠知不及當年聽，猶覺聞時勝不聞。</td>\n",
              "    </tr>\n",
              "    <tr>\n",
              "      <th>21</th>\n",
              "      <td>白居易</td>\n",
              "      <td>追歡偶作</td>\n",
              "      <td>追歡逐樂少閒時，補帖平生得事遲。何處花開曾後看？誰家酒熟不先知？石樓月下吹蘆管，金穀風前舞柳...</td>\n",
              "    </tr>\n",
              "    <tr>\n",
              "      <th>22</th>\n",
              "      <td>白居易</td>\n",
              "      <td>酬夢得貧居詠懷見贈</td>\n",
              "      <td>歲陰生計兩蹉跎，相顧悠悠醉且歌。廚冷難留烏止屋，門閒可與雀張羅。[詩雲：贍烏爰止，於誰之屋？...</td>\n",
              "    </tr>\n",
              "    <tr>\n",
              "      <th>23</th>\n",
              "      <td>白居易</td>\n",
              "      <td>閒坐看書貽諸少年</td>\n",
              "      <td>雨砌長寒蕪，風庭落秋果。窗間有閒叟，儘日看書坐。書中見往事，曆曆知福禍。多取終厚亡，疾驅必先...</td>\n",
              "    </tr>\n",
              "    <tr>\n",
              "      <th>24</th>\n",
              "      <td>白居易</td>\n",
              "      <td>二年三月五日齋畢開素當食偶吟贈妻弘農郡君</td>\n",
              "      <td>睡足肢體暢，晨起開中堂。初旭泛簾幕，微風拂衣裳。二婢扶盥櫛，雙童舁簟床。庭東有茂樹，其下多陰...</td>\n",
              "    </tr>\n",
              "    <tr>\n",
              "      <th>25</th>\n",
              "      <td>白居易</td>\n",
              "      <td>履道西門二首</td>\n",
              "      <td>履道西門有弊居，池塘竹樹繞君廬。豪華肥壯雖無分，飽暖安閒即有餘。行灶朝香炊早飯，小園春暖掇新...</td>\n",
              "    </tr>\n",
              "    <tr>\n",
              "      <th>26</th>\n",
              "      <td>白居易</td>\n",
              "      <td>昨日複今辰</td>\n",
              "      <td>昨日複今辰，悠悠七十春。所經多故處，卻想似前身。散秩優遊老，閒居淨潔貧。螺杯中有物，鶴氅上無...</td>\n",
              "    </tr>\n",
              "    <tr>\n",
              "      <th>27</th>\n",
              "      <td>白居易</td>\n",
              "      <td>不與老為期</td>\n",
              "      <td>不與老為期，因何兩鬢絲？才應免夭促，便已及衰羸。昨夜夢何在，明朝身不知。百憂非我所，三樂是吾...</td>\n",
              "    </tr>\n",
              "    <tr>\n",
              "      <th>28</th>\n",
              "      <td>白居易</td>\n",
              "      <td>閒眠</td>\n",
              "      <td>暖床斜臥日曛腰，一覺閒眠百病銷。儘日一飧茶兩碗，更無所要到明朝。</td>\n",
              "    </tr>\n",
              "    <tr>\n",
              "      <th>29</th>\n",
              "      <td>白居易</td>\n",
              "      <td>和李相公留守題漕上新橋六韻　同用黎字。</td>\n",
              "      <td>選石鋪新路，安橋壓古堤。似從銀漢下，落傍玉川西。影定欄杆倒，標高華表齊。煙開虹半見，月冷鶴雙...</td>\n",
              "    </tr>\n",
              "  </tbody>\n",
              "</table>\n",
              "</div>"
            ],
            "text/plain": [
              "     作者  ...                                                 內容\n",
              "0    李白  ...                   日照香爐生紫煙，遙看瀑布掛前川。飛流直下三千尺，疑是銀河落九天。\n",
              "1    李白  ...                   朝辭白帝彩雲間，千裡江陵一日還。兩岸猿聲啼不住，輕舟已過萬重山。\n",
              "2    李白  ...                   李白乘舟將欲行，忽聞岸上踏歌聲。桃花潭水深千尺，不及汪倫送我情。\n",
              "3    李白  ...                   故人西辭黃鶴樓，煙花三月下揚州。孤帆遠影碧空儘，唯見長江天際流。\n",
              "4    李白  ...                           危樓高百尺，手可摘星辰。不敢高聲語，恐驚天上人。\n",
              "5    李白  ...                           床前明月光，疑是地上霜。舉頭望明月，低頭思故鄉。\n",
              "6    李白  ...                   天門中斷楚江開，碧水東流至此回。兩岸青山相對出，孤帆一片日邊來。\n",
              "7    李白  ...                           眾鳥高飛儘，孤雲獨去閒。相看兩不厭，隻有敬亭山。\n",
              "8    李白  ...  鳳凰台上鳳凰遊，鳳去台空江自流。吳宮花草埋幽徑，晉代衣冠成古丘。三山半落青天外，二水中分白鷺...\n",
              "9    李白  ...   渡遠荊門外，來從楚國遊。山隨平野儘，江入大荒流。月下飛天境，雲生結海樓。仍憐故鄉水，萬裡送行舟。\n",
              "10   杜甫  ...  百川日東流，客去亦不息。我生苦漂蕩，何時有終極。讚公釋門老，放逐來上國。還為世塵嬰，頗帶憔悴...\n",
              "11   杜甫  ...  細泉兼輕冰，沮洳棧道濕。不辭辛苦行，迫此短景急。石門雪雲隘，古鎮峰巒集。旌竿暮慘澹，風水白刃...\n",
              "12   杜甫  ...  首路栗亭西，尚想鳳凰村。季冬攜童稚，辛苦赴蜀門。南登木皮嶺，艱險不易論。汗流被我體，祁寒為之...\n",
              "13   杜甫  ...   落日在簾鉤，溪邊春事幽。芳菲緣岸圃，樵爨倚灘舟。啅雀爭枝墜，飛蟲滿院遊。濁醪誰造汝，一酌散千憂。\n",
              "14   杜甫  ...  竇侍禦，驥之子，鳳之雛。年未三十忠義俱，骨鯁絕代無。炯如一段清冰出萬壑，置在迎風寒露之玉壺。...\n",
              "15   杜甫  ...   百草競春華，麗春應最勝。少須好顏色，多漫枝條剩。紛紛桃李枝，處處總能移。如何貴此重，卻怕有人知。\n",
              "16   杜甫  ...   何年顧虎頭，滿壁畫瀛州。赤日石林氣，青天江海流。錫飛常近鶴，杯度不驚鷗。似得廬山路，真隨惠遠遊。\n",
              "17   杜甫  ...  野寺隱喬木，山僧高下居。石門日色異，絳氣橫扶疏。窈窕入風磴，長蘆紛卷舒。庭前猛虎臥，遂得文公...\n",
              "18   杜甫  ...  西川有杜鵑，東川無杜鵑。涪萬無杜鵑，雲安有杜鵑。我昔遊錦城，結廬錦水邊。有竹一頃餘，喬木上參...\n",
              "19   杜甫  ...  小奴縛雞向市賣，雞被縛急相喧爭。家中厭雞食蟲蟻，不知雞賣還遭烹。蟲雞於人何厚薄，我斥奴人解其...\n",
              "20  白居易  ...                   管妙弦清歌入雲，老人合眼醉醺醺。誠知不及當年聽，猶覺聞時勝不聞。\n",
              "21  白居易  ...  追歡逐樂少閒時，補帖平生得事遲。何處花開曾後看？誰家酒熟不先知？石樓月下吹蘆管，金穀風前舞柳...\n",
              "22  白居易  ...  歲陰生計兩蹉跎，相顧悠悠醉且歌。廚冷難留烏止屋，門閒可與雀張羅。[詩雲：贍烏爰止，於誰之屋？...\n",
              "23  白居易  ...  雨砌長寒蕪，風庭落秋果。窗間有閒叟，儘日看書坐。書中見往事，曆曆知福禍。多取終厚亡，疾驅必先...\n",
              "24  白居易  ...  睡足肢體暢，晨起開中堂。初旭泛簾幕，微風拂衣裳。二婢扶盥櫛，雙童舁簟床。庭東有茂樹，其下多陰...\n",
              "25  白居易  ...  履道西門有弊居，池塘竹樹繞君廬。豪華肥壯雖無分，飽暖安閒即有餘。行灶朝香炊早飯，小園春暖掇新...\n",
              "26  白居易  ...  昨日複今辰，悠悠七十春。所經多故處，卻想似前身。散秩優遊老，閒居淨潔貧。螺杯中有物，鶴氅上無...\n",
              "27  白居易  ...  不與老為期，因何兩鬢絲？才應免夭促，便已及衰羸。昨夜夢何在，明朝身不知。百憂非我所，三樂是吾...\n",
              "28  白居易  ...                   暖床斜臥日曛腰，一覺閒眠百病銷。儘日一飧茶兩碗，更無所要到明朝。\n",
              "29  白居易  ...  選石鋪新路，安橋壓古堤。似從銀漢下，落傍玉川西。影定欄杆倒，標高華表齊。煙開虹半見，月冷鶴雙...\n",
              "\n",
              "[30 rows x 3 columns]"
            ]
          },
          "metadata": {
            "tags": []
          },
          "execution_count": 9
        }
      ]
    },
    {
      "cell_type": "code",
      "metadata": {
        "id": "T040ve8WUOX3",
        "colab_type": "code",
        "colab": {}
      },
      "source": [
        "# Series.replace(轉換字典)\n",
        "# {\"李白\":0,\"杜甫\":1}\n",
        "# uniqui/value_counts\n",
        "u = train_df[\"作者\"].unique()\n",
        "trans = { n:i for i, n in enumerate(u)}\n",
        "trans_r = { i:n for i, n in enumerate(u)}\n",
        "y_train = train_df[\"作者\"].replace(trans)\n",
        "y_test = train_df[\"作者\"].replace(trans)"
      ],
      "execution_count": null,
      "outputs": []
    }
  ]
}