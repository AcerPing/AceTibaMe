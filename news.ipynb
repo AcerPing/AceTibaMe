{
  "nbformat": 4,
  "nbformat_minor": 0,
  "metadata": {
    "colab": {
      "name": "news.ipynb",
      "provenance": [],
      "collapsed_sections": [],
      "mount_file_id": "1C1IMmkbJfn-kQfftnb4D-oSupIWpTnh5",
      "authorship_tag": "ABX9TyMRp/OxLzbDVot/ng1riKP7",
      "include_colab_link": true
    },
    "kernelspec": {
      "name": "python3",
      "display_name": "Python 3"
    }
  },
  "cells": [
    {
      "cell_type": "markdown",
      "metadata": {
        "id": "view-in-github",
        "colab_type": "text"
      },
      "source": [
        "<a href=\"https://colab.research.google.com/github/AcerPing/AceTibaMe/blob/master/news.ipynb\" target=\"_parent\"><img src=\"https://colab.research.google.com/assets/colab-badge.svg\" alt=\"Open In Colab\"/></a>"
      ]
    },
    {
      "cell_type": "code",
      "metadata": {
        "id": "5oq3CjzC3Suo",
        "colab_type": "code",
        "colab": {
          "base_uri": "https://localhost:8080/",
          "height": 34
        },
        "outputId": "a4573835-3070-410e-fd1d-40c348103222"
      },
      "source": [
        "from google.colab import drive\n",
        "drive.mount('/content/drive')"
      ],
      "execution_count": 1,
      "outputs": [
        {
          "output_type": "stream",
          "text": [
            "Drive already mounted at /content/drive; to attempt to forcibly remount, call drive.mount(\"/content/drive\", force_remount=True).\n"
          ],
          "name": "stdout"
        }
      ]
    },
    {
      "cell_type": "code",
      "metadata": {
        "id": "mifMatII3jtJ",
        "colab_type": "code",
        "colab": {}
      },
      "source": [
        "import zipfile\n",
        "f = zipfile.ZipFile(\"drive/My Drive/0724test/chinese_news_trans-20200724T030128Z-001.zip\")\n",
        "f.extractall(\"train\")\n",
        "f = zipfile.ZipFile(\"drive/My Drive/0724test/chinese_news_test-20200724T030433Z-001.zip\")\n",
        "f.extractall(\"test\")"
      ],
      "execution_count": 2,
      "outputs": []
    },
    {
      "cell_type": "code",
      "metadata": {
        "id": "L_ajRe20pdL2",
        "colab_type": "code",
        "colab": {}
      },
      "source": [
        "import glob\n",
        "import os\n",
        "import pandas as pd\n",
        "\n",
        "def getdf(targetdn):\n",
        "  datas = {\n",
        "      \"path\":[],\n",
        "      \"label\":[]\n",
        "  }\n",
        "  base = \"\"\n",
        "  p = os.path.join(base,targetdn,\"*\")\n",
        "  for dn in glob.glob(p):\n",
        "    name = os.path.split(dn)[-1]\n",
        "    fn = os.path.join(dn,\"*.[tT][xX][tT]\")\n",
        "    fns = glob.glob(fn)\n",
        "    datas[\"label\"] = datas[\"label\"] + [name] * len(fns)\n",
        "    datas[\"path\"] = datas[\"path\"] + fns\n",
        "  return pd.DataFrame(datas)"
      ],
      "execution_count": 3,
      "outputs": []
    },
    {
      "cell_type": "code",
      "metadata": {
        "id": "axyMUsKQuIq4",
        "colab_type": "code",
        "colab": {}
      },
      "source": [
        "train_df = getdf(\"train/chinese_news_trans\")\n",
        "test_df = getdf(\"test/chinese_news_test\")"
      ],
      "execution_count": 4,
      "outputs": []
    },
    {
      "cell_type": "code",
      "metadata": {
        "id": "tmAqboI0uI3t",
        "colab_type": "code",
        "colab": {}
      },
      "source": [
        "def read_content(fn):\n",
        "  with open(fn,\"r\",encoding=\"utf-8\") as f:\n",
        "    content = f.read()\n",
        "  return content\n",
        "train_df[\"content\"] = train_df[\"path\"].apply(read_content)\n",
        "test_df[\"content\"] = test_df[\"path\"].apply(read_content)"
      ],
      "execution_count": 5,
      "outputs": []
    },
    {
      "cell_type": "code",
      "metadata": {
        "id": "X51beZeOyxkq",
        "colab_type": "code",
        "colab": {
          "base_uri": "https://localhost:8080/",
          "height": 402
        },
        "outputId": "ed35458e-538f-4459-f778-23d3313b733c"
      },
      "source": [
        "train_df"
      ],
      "execution_count": 6,
      "outputs": [
        {
          "output_type": "execute_result",
          "data": {
            "text/html": [
              "<div>\n",
              "<style scoped>\n",
              "    .dataframe tbody tr th:only-of-type {\n",
              "        vertical-align: middle;\n",
              "    }\n",
              "\n",
              "    .dataframe tbody tr th {\n",
              "        vertical-align: top;\n",
              "    }\n",
              "\n",
              "    .dataframe thead th {\n",
              "        text-align: right;\n",
              "    }\n",
              "</style>\n",
              "<table border=\"1\" class=\"dataframe\">\n",
              "  <thead>\n",
              "    <tr style=\"text-align: right;\">\n",
              "      <th></th>\n",
              "      <th>path</th>\n",
              "      <th>label</th>\n",
              "      <th>content</th>\n",
              "    </tr>\n",
              "  </thead>\n",
              "  <tbody>\n",
              "    <tr>\n",
              "      <th>0</th>\n",
              "      <td>train/chinese_news_trans/軍事/813.TXT</td>\n",
              "      <td>軍事</td>\n",
              "      <td>古巴宣佈舉行軍事演習\\n新華社哈瓦那５月１日電古巴革命武裝部今晚發表公...</td>\n",
              "    </tr>\n",
              "    <tr>\n",
              "      <th>1</th>\n",
              "      <td>train/chinese_news_trans/軍事/8223.txt</td>\n",
              "      <td>軍事</td>\n",
              "      <td>\\n美國空軍改進B-1B轟炸機的電子戰系統(附圖) \\n\\n----------------...</td>\n",
              "    </tr>\n",
              "    <tr>\n",
              "      <th>2</th>\n",
              "      <td>train/chinese_news_trans/軍事/8123.TXT</td>\n",
              "      <td>軍事</td>\n",
              "      <td>１枚導彈致１２０名阿富汗人傷亡\\n新華社伊斯蘭堡５月２２日電阿富汗游擊...</td>\n",
              "    </tr>\n",
              "    <tr>\n",
              "      <th>3</th>\n",
              "      <td>train/chinese_news_trans/軍事/871.TXT</td>\n",
              "      <td>軍事</td>\n",
              "      <td>馬達加斯加發生軍事政變\\n新華社塔那那利佛５月１３日電據馬達加斯加電臺...</td>\n",
              "    </tr>\n",
              "    <tr>\n",
              "      <th>4</th>\n",
              "      <td>train/chinese_news_trans/軍事/889.TXT</td>\n",
              "      <td>軍事</td>\n",
              "      <td>緬甸取消部份地區軍事管制\\n新華社仰光５月１５日電據緬甸之聲電臺報道，...</td>\n",
              "    </tr>\n",
              "    <tr>\n",
              "      <th>...</th>\n",
              "      <td>...</td>\n",
              "      <td>...</td>\n",
              "      <td>...</td>\n",
              "    </tr>\n",
              "    <tr>\n",
              "      <th>2632</th>\n",
              "      <td>train/chinese_news_trans/政治/954.TXT</td>\n",
              "      <td>政治</td>\n",
              "      <td>李鵬同奧其爾巴特舉行會談\\n新華社北京５月４日電（記者楊子迪）國務院總...</td>\n",
              "    </tr>\n",
              "    <tr>\n",
              "      <th>2633</th>\n",
              "      <td>train/chinese_news_trans/政治/9463.TXT</td>\n",
              "      <td>政治</td>\n",
              "      <td>多米尼加共和國中止大選計票工作\\n新華社北京５月２１日電聖多明各消息：...</td>\n",
              "    </tr>\n",
              "    <tr>\n",
              "      <th>2634</th>\n",
              "      <td>train/chinese_news_trans/政治/9195.TXT</td>\n",
              "      <td>政治</td>\n",
              "      <td>泰國公主瓦塔娜離泰訪華\\n新華社曼谷５月１０日電泰國公主甘拉亞妮·瓦塔...</td>\n",
              "    </tr>\n",
              "    <tr>\n",
              "      <th>2635</th>\n",
              "      <td>train/chinese_news_trans/政治/9444.TXT</td>\n",
              "      <td>政治</td>\n",
              "      <td>伊駐英使館稱收到裝有電子元件的匿名信\\n新華社倫敦５月２１日電（記者王...</td>\n",
              "    </tr>\n",
              "    <tr>\n",
              "      <th>2636</th>\n",
              "      <td>train/chinese_news_trans/政治/9352.TXT</td>\n",
              "      <td>政治</td>\n",
              "      <td>法共召開中央全會\\n新華社巴黎５月１５日電法國共產黨中央委員會全體\\n...</td>\n",
              "    </tr>\n",
              "  </tbody>\n",
              "</table>\n",
              "<p>2637 rows × 3 columns</p>\n",
              "</div>"
            ],
            "text/plain": [
              "                                      path  ...                                            content\n",
              "0      train/chinese_news_trans/軍事/813.TXT  ...             古巴宣佈舉行軍事演習\\n新華社哈瓦那５月１日電古巴革命武裝部今晚發表公...\n",
              "1     train/chinese_news_trans/軍事/8223.txt  ...  \\n美國空軍改進B-1B轟炸機的電子戰系統(附圖) \\n\\n----------------...\n",
              "2     train/chinese_news_trans/軍事/8123.TXT  ...             １枚導彈致１２０名阿富汗人傷亡\\n新華社伊斯蘭堡５月２２日電阿富汗游擊...\n",
              "3      train/chinese_news_trans/軍事/871.TXT  ...             馬達加斯加發生軍事政變\\n新華社塔那那利佛５月１３日電據馬達加斯加電臺...\n",
              "4      train/chinese_news_trans/軍事/889.TXT  ...             緬甸取消部份地區軍事管制\\n新華社仰光５月１５日電據緬甸之聲電臺報道，...\n",
              "...                                    ...  ...                                                ...\n",
              "2632   train/chinese_news_trans/政治/954.TXT  ...             李鵬同奧其爾巴特舉行會談\\n新華社北京５月４日電（記者楊子迪）國務院總...\n",
              "2633  train/chinese_news_trans/政治/9463.TXT  ...             多米尼加共和國中止大選計票工作\\n新華社北京５月２１日電聖多明各消息：...\n",
              "2634  train/chinese_news_trans/政治/9195.TXT  ...             泰國公主瓦塔娜離泰訪華\\n新華社曼谷５月１０日電泰國公主甘拉亞妮·瓦塔...\n",
              "2635  train/chinese_news_trans/政治/9444.TXT  ...             伊駐英使館稱收到裝有電子元件的匿名信\\n新華社倫敦５月２１日電（記者王...\n",
              "2636  train/chinese_news_trans/政治/9352.TXT  ...             法共召開中央全會\\n新華社巴黎５月１５日電法國共產黨中央委員會全體\\n...\n",
              "\n",
              "[2637 rows x 3 columns]"
            ]
          },
          "metadata": {
            "tags": []
          },
          "execution_count": 6
        }
      ]
    },
    {
      "cell_type": "code",
      "metadata": {
        "id": "lMtD5Q4X6sFj",
        "colab_type": "code",
        "colab": {
          "base_uri": "https://localhost:8080/",
          "height": 218
        },
        "outputId": "81feb6ed-65ce-49db-b8f4-1e2832c03bad"
      },
      "source": [
        "u = train_df[\"label\"].unique()\n",
        "trans = {n:i for i, n in enumerate(u)}\n",
        "trans_r = {i:n for i, n in enumerate(u)}\n",
        "y_train = train_df[\"label\"].replace(trans)\n",
        "y_test = test_df[\"label\"].replace(trans)\n",
        "y_test"
      ],
      "execution_count": 7,
      "outputs": [
        {
          "output_type": "execute_result",
          "data": {
            "text/plain": [
              "0      0\n",
              "1      0\n",
              "2      0\n",
              "3      0\n",
              "4      0\n",
              "      ..\n",
              "96     9\n",
              "97     9\n",
              "98     9\n",
              "99     9\n",
              "100    9\n",
              "Name: label, Length: 101, dtype: int64"
            ]
          },
          "metadata": {
            "tags": []
          },
          "execution_count": 7
        }
      ]
    },
    {
      "cell_type": "code",
      "metadata": {
        "id": "xlZibYVF698i",
        "colab_type": "code",
        "colab": {
          "base_uri": "https://localhost:8080/",
          "height": 286
        },
        "outputId": "f5655249-91b5-42fb-d84f-db7b4bb1db6f"
      },
      "source": [
        "import jieba\n",
        "from urllib.request import  urlretrieve\n",
        "\n",
        "url = \"https://github.com/fxsjy/jieba/raw/master/extra_dict/dict.txt.big\"\n",
        "urlretrieve(url, \"dict.txt.big\")\n",
        "jieba.set_dictionary(\"dict.txt.big\")\n",
        "\n",
        "def newscut(p):\n",
        "    return \" \".join(jieba.cut(p))\n",
        "x_train = train_df[\"content\"].apply(newscut)\n",
        "x_test = test_df[\"content\"].apply(newscut)\n",
        "x_test"
      ],
      "execution_count": 8,
      "outputs": [
        {
          "output_type": "stream",
          "text": [
            "Building prefix dict from /content/dict.txt.big ...\n",
            "Dumping model to file cache /tmp/jieba.u501edca284da514cb68b53a20324f4e3.cache\n",
            "Loading model cost 1.510 seconds.\n",
            "Prefix dict has been built successfully.\n"
          ],
          "name": "stderr"
        },
        {
          "output_type": "execute_result",
          "data": {
            "text/plain": [
              "0      美海軍 成功 演示 飛機 在 空中 控制 無人機 ( 附圖 )   \\n \\n ------...\n",
              "1      \\n 軍事 評論 ： “ 巴格達 之戰 ” 考驗 美軍 巷戰 武器裝備 ( 2 )   \\n...\n",
              "2      軍事 評論 ： 美英 聯軍 地面 作戰 裝備 特點 分析 ( 2 )   \\n \\n ---...\n",
              "3      在 伊拉克 戰爭 中 使用 的 空襲 精確 制導 彈藥 ( 1 )   \\n \\n ----...\n",
              "4      軍事 評論 ： 從 巷戰 或 地道戰 看 單兵 夜視 裝備 的 發展   \\n \\n ---...\n",
              "                             ...                        \n",
              "96                           楊 主席 提出 促進 中 拉關係 的 ５ 項 建...\n",
              "97                           阿拉伯 外長 會議 閉幕 \\n 新華社 巴格達 ...\n",
              "98                           外事 簡訊 \\n 新華社 北京 ５ 月 ２ ４ ...\n",
              "99                           第 ３ 次 安第斯集團 首腦會議 閉幕 \\n 新...\n",
              "100                  Ａ Ａ ０ ５ ５ \\n 金日成 指出 朝鮮 北方 堅持 以 聯...\n",
              "Name: content, Length: 101, dtype: object"
            ]
          },
          "metadata": {
            "tags": []
          },
          "execution_count": 8
        }
      ]
    },
    {
      "cell_type": "code",
      "metadata": {
        "id": "KqJExVsv-B9z",
        "colab_type": "code",
        "colab": {}
      },
      "source": [
        "from sklearn.feature_extraction.text import CountVectorizer\n",
        "vec = CountVectorizer()\n",
        "x_train_count = vec.fit_transform(x_train)\n",
        "x_test_count = vec.transform(x_test)"
      ],
      "execution_count": 9,
      "outputs": []
    },
    {
      "cell_type": "code",
      "metadata": {
        "id": "zJdZgY7p-JdB",
        "colab_type": "code",
        "colab": {
          "base_uri": "https://localhost:8080/",
          "height": 34
        },
        "outputId": "ac2b0fdb-7811-442e-8c94-523ac57eb9cf"
      },
      "source": [
        "from sklearn.naive_bayes import MultinomialNB\n",
        "clf = MultinomialNB()\n",
        "clf.fit(x_train_count, y_train)"
      ],
      "execution_count": 10,
      "outputs": [
        {
          "output_type": "execute_result",
          "data": {
            "text/plain": [
              "MultinomialNB(alpha=1.0, class_prior=None, fit_prior=True)"
            ]
          },
          "metadata": {
            "tags": []
          },
          "execution_count": 10
        }
      ]
    },
    {
      "cell_type": "code",
      "metadata": {
        "id": "8IzBGqYQ-OI5",
        "colab_type": "code",
        "colab": {
          "base_uri": "https://localhost:8080/",
          "height": 34
        },
        "outputId": "ea24d580-2ed4-4444-f08d-61c1a76c7497"
      },
      "source": [
        "from sklearn.metrics import accuracy_score\n",
        "pre = clf.predict(x_test_count)\n",
        "accuracy_score(pre, y_test)"
      ],
      "execution_count": 11,
      "outputs": [
        {
          "output_type": "execute_result",
          "data": {
            "text/plain": [
              "1.0"
            ]
          },
          "metadata": {
            "tags": []
          },
          "execution_count": 11
        }
      ]
    },
    {
      "cell_type": "code",
      "metadata": {
        "id": "nDqzeJ3T-PId",
        "colab_type": "code",
        "colab": {
          "base_uri": "https://localhost:8080/",
          "height": 238
        },
        "outputId": "095ca9a7-2729-4bef-d6a1-5a5328ec889d"
      },
      "source": [
        "test = input(\"輸入一首新聞:\")\n",
        "count = vec.transform([newscut(test)])\n",
        "answer = clf.predict(count)[0]\n",
        "proba = clf.predict_proba(count)[0]\n",
        "for name, p in zip(u, proba):\n",
        "    print(name, \"的機率:\", p)\n",
        "print(\"答案:\", trans_r[answer])"
      ],
      "execution_count": 12,
      "outputs": [
        {
          "output_type": "stream",
          "text": [
            "輸入一首新聞:威力彩連摃頭獎直飆25億元，成為全台熱門話題，日前網傳「電腦選號」是送錢給彩券行，對此，台灣彩券推翻民間說法表示，第四屆彩券自103年1月1日起，威力彩頭獎中獎者「電腦選號」比例是70%，近6年來幸運中頭獎的電選與自選比例約為7：3。  PTT近期上有一篇「威力彩電腦選號真的有差嗎？」引起話題，發文者表示，自己路過彩券行順手買了一張威力彩，父親知道他是用電腦選號後就碎念「電腦選號是給彩券行送錢，自己選號才有機會中」，該名父親質疑，電腦選號是真的隨機嗎？也有可能懷疑是設計好1萬組號碼隨機發，且這1萬組號碼永遠都不會中大獎，因此認為電腦選號就是送錢給彩券行。  網友們議論，有人認同「好像有點道理」，但也有人無法相信此民間說法，還有人點出關鍵「開獎也不是真隨機啊，入球順序也會影響結果」，也有人建議乾脆自己用程式跑隨機自己「電腦選號」。  根據「三立新聞網」報導，台彩依據投注系統的統計資料表示，威力彩第四屆的投注交易中，「電腦選號」投注的消費者佔比69.9%，而開出的30注頭獎裡，有21注是「電腦選號」，佔比70%。  另外，消費者購買大樂透和威力彩採「電腦選號」（包括部分電腦選號）與「自行選號」的比例約是7：3，近6年來中頭獎的「電腦選號」與「自行選號」比例，同樣約是7：3。\n",
            "軍事 的機率: 1.604838448365467e-28\n",
            "交通 的機率: 2.5785660104385224e-57\n",
            "計算機 的機率: 1.0\n",
            "環境 的機率: 1.6901931661840217e-54\n",
            "藝術 的機率: 4.1248236788596004e-38\n",
            "醫藥 的機率: 3.1137848484112106e-65\n",
            "教育 的機率: 6.12773529558314e-39\n",
            "經濟 的機率: 1.68358224916136e-21\n",
            "體育 的機率: 3.4214920064480707e-54\n",
            "政治 的機率: 4.88233768062496e-75\n",
            "答案: 計算機\n"
          ],
          "name": "stdout"
        }
      ]
    }
  ]
}