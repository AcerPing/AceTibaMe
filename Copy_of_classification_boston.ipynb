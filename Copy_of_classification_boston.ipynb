{
  "nbformat": 4,
  "nbformat_minor": 0,
  "metadata": {
    "colab": {
      "name": "Copy of classification_boston.ipynb",
      "provenance": [],
      "collapsed_sections": [],
      "authorship_tag": "ABX9TyPYT8SIdn5BzCjEO1SL8t2X",
      "include_colab_link": true
    },
    "kernelspec": {
      "name": "python3",
      "display_name": "Python 3"
    }
  },
  "cells": [
    {
      "cell_type": "markdown",
      "metadata": {
        "id": "view-in-github",
        "colab_type": "text"
      },
      "source": [
        "<a href=\"https://colab.research.google.com/github/AcerPing/AceTibaMe/blob/master/Copy_of_classification_boston.ipynb\" target=\"_parent\"><img src=\"https://colab.research.google.com/assets/colab-badge.svg\" alt=\"Open In Colab\"/></a>"
      ]
    },
    {
      "cell_type": "code",
      "metadata": {
        "id": "ObpGQfmCOVET",
        "colab_type": "code",
        "colab": {
          "base_uri": "https://localhost:8080/",
          "height": 118
        },
        "outputId": "6848c5b8-bad4-46c2-d9d2-12f1151c5c04"
      },
      "source": [
        "!ls -al"
      ],
      "execution_count": 1,
      "outputs": [
        {
          "output_type": "stream",
          "text": [
            "total 56\n",
            "drwxr-xr-x 1 root root  4096 Jul 16 08:16 .\n",
            "drwxr-xr-x 1 root root  4096 Jul 16 08:10 ..\n",
            "-rw-r--r-- 1 root root 39171 Jul 16 08:24 boston.csv\n",
            "drwxr-xr-x 1 root root  4096 Jul 13 16:14 .config\n",
            "drwxr-xr-x 1 root root  4096 Jul 10 16:29 sample_data\n"
          ],
          "name": "stdout"
        }
      ]
    },
    {
      "cell_type": "code",
      "metadata": {
        "id": "l-_eGV4Mcs5K",
        "colab_type": "code",
        "colab": {
          "base_uri": "https://localhost:8080/",
          "height": 402
        },
        "outputId": "9b42ae30-61fe-4091-a649-e73ff23d5f85"
      },
      "source": [
        "import pandas as pd\n",
        "from sklearn.datasets import load_boston\n",
        "boston = load_boston()\n",
        "df = pd.DataFrame(boston[\"data\"],\n",
        "                  columns = boston[\"feature_names\"])\n",
        "df[\"answer\"] = boston[\"target\"]\n",
        "df.to_csv(\"boston.csv\",encoding=\"utf-8\",index=False)\n",
        "df\n"
      ],
      "execution_count": 2,
      "outputs": [
        {
          "output_type": "execute_result",
          "data": {
            "text/html": [
              "<div>\n",
              "<style scoped>\n",
              "    .dataframe tbody tr th:only-of-type {\n",
              "        vertical-align: middle;\n",
              "    }\n",
              "\n",
              "    .dataframe tbody tr th {\n",
              "        vertical-align: top;\n",
              "    }\n",
              "\n",
              "    .dataframe thead th {\n",
              "        text-align: right;\n",
              "    }\n",
              "</style>\n",
              "<table border=\"1\" class=\"dataframe\">\n",
              "  <thead>\n",
              "    <tr style=\"text-align: right;\">\n",
              "      <th></th>\n",
              "      <th>CRIM</th>\n",
              "      <th>ZN</th>\n",
              "      <th>INDUS</th>\n",
              "      <th>CHAS</th>\n",
              "      <th>NOX</th>\n",
              "      <th>RM</th>\n",
              "      <th>AGE</th>\n",
              "      <th>DIS</th>\n",
              "      <th>RAD</th>\n",
              "      <th>TAX</th>\n",
              "      <th>PTRATIO</th>\n",
              "      <th>B</th>\n",
              "      <th>LSTAT</th>\n",
              "      <th>answer</th>\n",
              "    </tr>\n",
              "  </thead>\n",
              "  <tbody>\n",
              "    <tr>\n",
              "      <th>0</th>\n",
              "      <td>0.00632</td>\n",
              "      <td>18.0</td>\n",
              "      <td>2.31</td>\n",
              "      <td>0.0</td>\n",
              "      <td>0.538</td>\n",
              "      <td>6.575</td>\n",
              "      <td>65.2</td>\n",
              "      <td>4.0900</td>\n",
              "      <td>1.0</td>\n",
              "      <td>296.0</td>\n",
              "      <td>15.3</td>\n",
              "      <td>396.90</td>\n",
              "      <td>4.98</td>\n",
              "      <td>24.0</td>\n",
              "    </tr>\n",
              "    <tr>\n",
              "      <th>1</th>\n",
              "      <td>0.02731</td>\n",
              "      <td>0.0</td>\n",
              "      <td>7.07</td>\n",
              "      <td>0.0</td>\n",
              "      <td>0.469</td>\n",
              "      <td>6.421</td>\n",
              "      <td>78.9</td>\n",
              "      <td>4.9671</td>\n",
              "      <td>2.0</td>\n",
              "      <td>242.0</td>\n",
              "      <td>17.8</td>\n",
              "      <td>396.90</td>\n",
              "      <td>9.14</td>\n",
              "      <td>21.6</td>\n",
              "    </tr>\n",
              "    <tr>\n",
              "      <th>2</th>\n",
              "      <td>0.02729</td>\n",
              "      <td>0.0</td>\n",
              "      <td>7.07</td>\n",
              "      <td>0.0</td>\n",
              "      <td>0.469</td>\n",
              "      <td>7.185</td>\n",
              "      <td>61.1</td>\n",
              "      <td>4.9671</td>\n",
              "      <td>2.0</td>\n",
              "      <td>242.0</td>\n",
              "      <td>17.8</td>\n",
              "      <td>392.83</td>\n",
              "      <td>4.03</td>\n",
              "      <td>34.7</td>\n",
              "    </tr>\n",
              "    <tr>\n",
              "      <th>3</th>\n",
              "      <td>0.03237</td>\n",
              "      <td>0.0</td>\n",
              "      <td>2.18</td>\n",
              "      <td>0.0</td>\n",
              "      <td>0.458</td>\n",
              "      <td>6.998</td>\n",
              "      <td>45.8</td>\n",
              "      <td>6.0622</td>\n",
              "      <td>3.0</td>\n",
              "      <td>222.0</td>\n",
              "      <td>18.7</td>\n",
              "      <td>394.63</td>\n",
              "      <td>2.94</td>\n",
              "      <td>33.4</td>\n",
              "    </tr>\n",
              "    <tr>\n",
              "      <th>4</th>\n",
              "      <td>0.06905</td>\n",
              "      <td>0.0</td>\n",
              "      <td>2.18</td>\n",
              "      <td>0.0</td>\n",
              "      <td>0.458</td>\n",
              "      <td>7.147</td>\n",
              "      <td>54.2</td>\n",
              "      <td>6.0622</td>\n",
              "      <td>3.0</td>\n",
              "      <td>222.0</td>\n",
              "      <td>18.7</td>\n",
              "      <td>396.90</td>\n",
              "      <td>5.33</td>\n",
              "      <td>36.2</td>\n",
              "    </tr>\n",
              "    <tr>\n",
              "      <th>...</th>\n",
              "      <td>...</td>\n",
              "      <td>...</td>\n",
              "      <td>...</td>\n",
              "      <td>...</td>\n",
              "      <td>...</td>\n",
              "      <td>...</td>\n",
              "      <td>...</td>\n",
              "      <td>...</td>\n",
              "      <td>...</td>\n",
              "      <td>...</td>\n",
              "      <td>...</td>\n",
              "      <td>...</td>\n",
              "      <td>...</td>\n",
              "      <td>...</td>\n",
              "    </tr>\n",
              "    <tr>\n",
              "      <th>501</th>\n",
              "      <td>0.06263</td>\n",
              "      <td>0.0</td>\n",
              "      <td>11.93</td>\n",
              "      <td>0.0</td>\n",
              "      <td>0.573</td>\n",
              "      <td>6.593</td>\n",
              "      <td>69.1</td>\n",
              "      <td>2.4786</td>\n",
              "      <td>1.0</td>\n",
              "      <td>273.0</td>\n",
              "      <td>21.0</td>\n",
              "      <td>391.99</td>\n",
              "      <td>9.67</td>\n",
              "      <td>22.4</td>\n",
              "    </tr>\n",
              "    <tr>\n",
              "      <th>502</th>\n",
              "      <td>0.04527</td>\n",
              "      <td>0.0</td>\n",
              "      <td>11.93</td>\n",
              "      <td>0.0</td>\n",
              "      <td>0.573</td>\n",
              "      <td>6.120</td>\n",
              "      <td>76.7</td>\n",
              "      <td>2.2875</td>\n",
              "      <td>1.0</td>\n",
              "      <td>273.0</td>\n",
              "      <td>21.0</td>\n",
              "      <td>396.90</td>\n",
              "      <td>9.08</td>\n",
              "      <td>20.6</td>\n",
              "    </tr>\n",
              "    <tr>\n",
              "      <th>503</th>\n",
              "      <td>0.06076</td>\n",
              "      <td>0.0</td>\n",
              "      <td>11.93</td>\n",
              "      <td>0.0</td>\n",
              "      <td>0.573</td>\n",
              "      <td>6.976</td>\n",
              "      <td>91.0</td>\n",
              "      <td>2.1675</td>\n",
              "      <td>1.0</td>\n",
              "      <td>273.0</td>\n",
              "      <td>21.0</td>\n",
              "      <td>396.90</td>\n",
              "      <td>5.64</td>\n",
              "      <td>23.9</td>\n",
              "    </tr>\n",
              "    <tr>\n",
              "      <th>504</th>\n",
              "      <td>0.10959</td>\n",
              "      <td>0.0</td>\n",
              "      <td>11.93</td>\n",
              "      <td>0.0</td>\n",
              "      <td>0.573</td>\n",
              "      <td>6.794</td>\n",
              "      <td>89.3</td>\n",
              "      <td>2.3889</td>\n",
              "      <td>1.0</td>\n",
              "      <td>273.0</td>\n",
              "      <td>21.0</td>\n",
              "      <td>393.45</td>\n",
              "      <td>6.48</td>\n",
              "      <td>22.0</td>\n",
              "    </tr>\n",
              "    <tr>\n",
              "      <th>505</th>\n",
              "      <td>0.04741</td>\n",
              "      <td>0.0</td>\n",
              "      <td>11.93</td>\n",
              "      <td>0.0</td>\n",
              "      <td>0.573</td>\n",
              "      <td>6.030</td>\n",
              "      <td>80.8</td>\n",
              "      <td>2.5050</td>\n",
              "      <td>1.0</td>\n",
              "      <td>273.0</td>\n",
              "      <td>21.0</td>\n",
              "      <td>396.90</td>\n",
              "      <td>7.88</td>\n",
              "      <td>11.9</td>\n",
              "    </tr>\n",
              "  </tbody>\n",
              "</table>\n",
              "<p>506 rows × 14 columns</p>\n",
              "</div>"
            ],
            "text/plain": [
              "        CRIM    ZN  INDUS  CHAS    NOX  ...    TAX  PTRATIO       B  LSTAT  answer\n",
              "0    0.00632  18.0   2.31   0.0  0.538  ...  296.0     15.3  396.90   4.98    24.0\n",
              "1    0.02731   0.0   7.07   0.0  0.469  ...  242.0     17.8  396.90   9.14    21.6\n",
              "2    0.02729   0.0   7.07   0.0  0.469  ...  242.0     17.8  392.83   4.03    34.7\n",
              "3    0.03237   0.0   2.18   0.0  0.458  ...  222.0     18.7  394.63   2.94    33.4\n",
              "4    0.06905   0.0   2.18   0.0  0.458  ...  222.0     18.7  396.90   5.33    36.2\n",
              "..       ...   ...    ...   ...    ...  ...    ...      ...     ...    ...     ...\n",
              "501  0.06263   0.0  11.93   0.0  0.573  ...  273.0     21.0  391.99   9.67    22.4\n",
              "502  0.04527   0.0  11.93   0.0  0.573  ...  273.0     21.0  396.90   9.08    20.6\n",
              "503  0.06076   0.0  11.93   0.0  0.573  ...  273.0     21.0  396.90   5.64    23.9\n",
              "504  0.10959   0.0  11.93   0.0  0.573  ...  273.0     21.0  393.45   6.48    22.0\n",
              "505  0.04741   0.0  11.93   0.0  0.573  ...  273.0     21.0  396.90   7.88    11.9\n",
              "\n",
              "[506 rows x 14 columns]"
            ]
          },
          "metadata": {
            "tags": []
          },
          "execution_count": 2
        }
      ]
    },
    {
      "cell_type": "code",
      "metadata": {
        "id": "Q7LXzAEzP6h6",
        "colab_type": "code",
        "colab": {}
      },
      "source": [
        "from sklearn.model_selection import train_test_split\n",
        "#[90% data, 10% data, 90% target, 10% target]\n",
        "x_train,x_test, y_train, y_test=train_test_split(boston[\"data\"],\n",
        "                                                   boston[\"target\"],\n",
        "                                                    test_size=0.1)\n"
      ],
      "execution_count": 3,
      "outputs": []
    },
    {
      "cell_type": "code",
      "metadata": {
        "id": "wjmMHOX-SlKd",
        "colab_type": "code",
        "colab": {
          "base_uri": "https://localhost:8080/",
          "height": 118
        },
        "outputId": "9340960c-2389-4b91-d80a-aa8c848e51ef"
      },
      "source": [
        "from sklearn.tree import DecisionTreeRegressor\n",
        "reg = DecisionTreeRegressor(max_depth=5,random_state=0)\n",
        "reg.fit(x_train,y_train)"
      ],
      "execution_count": 4,
      "outputs": [
        {
          "output_type": "execute_result",
          "data": {
            "text/plain": [
              "DecisionTreeRegressor(ccp_alpha=0.0, criterion='mse', max_depth=5,\n",
              "                      max_features=None, max_leaf_nodes=None,\n",
              "                      min_impurity_decrease=0.0, min_impurity_split=None,\n",
              "                      min_samples_leaf=1, min_samples_split=2,\n",
              "                      min_weight_fraction_leaf=0.0, presort='deprecated',\n",
              "                      random_state=0, splitter='best')"
            ]
          },
          "metadata": {
            "tags": []
          },
          "execution_count": 4
        }
      ]
    },
    {
      "cell_type": "code",
      "metadata": {
        "id": "A9Aaw1vSTvyT",
        "colab_type": "code",
        "colab": {
          "base_uri": "https://localhost:8080/",
          "height": 654
        },
        "outputId": "b2da399e-2e32-4b8d-b94f-6344ede43a35"
      },
      "source": [
        "import graphviz\n",
        "from sklearn.tree import  export_graphviz\n",
        "g = export_graphviz(reg,\n",
        "                feature_names = boston[\"feature_names\"],\n",
        "                filled=True,\n",
        "                max_depth = 3)\n",
        "graphviz.Source(g)"
      ],
      "execution_count": 5,
      "outputs": [
        {
          "output_type": "execute_result",
          "data": {
            "text/plain": [
              "<graphviz.files.Source at 0x7f7957cc32e8>"
            ],
            "image/svg+xml": "<?xml version=\"1.0\" encoding=\"UTF-8\" standalone=\"no\"?>\n<!DOCTYPE svg PUBLIC \"-//W3C//DTD SVG 1.1//EN\"\n \"http://www.w3.org/Graphics/SVG/1.1/DTD/svg11.dtd\">\n<!-- Generated by graphviz version 2.40.1 (20161225.0304)\n -->\n<!-- Title: Tree Pages: 1 -->\n<svg width=\"1057pt\" height=\"460pt\"\n viewBox=\"0.00 0.00 1056.50 460.00\" xmlns=\"http://www.w3.org/2000/svg\" xmlns:xlink=\"http://www.w3.org/1999/xlink\">\n<g id=\"graph0\" class=\"graph\" transform=\"scale(1 1) rotate(0) translate(4 456)\">\n<title>Tree</title>\n<polygon fill=\"#ffffff\" stroke=\"transparent\" points=\"-4,4 -4,-456 1052.5,-456 1052.5,4 -4,4\"/>\n<!-- 0 -->\n<g id=\"node1\" class=\"node\">\n<title>0</title>\n<polygon fill=\"#f7d7bf\" stroke=\"#000000\" points=\"511.5,-452 393.5,-452 393.5,-384 511.5,-384 511.5,-452\"/>\n<text text-anchor=\"middle\" x=\"452.5\" y=\"-436.8\" font-family=\"Times,serif\" font-size=\"14.00\" fill=\"#000000\">LSTAT &lt;= 9.725</text>\n<text text-anchor=\"middle\" x=\"452.5\" y=\"-421.8\" font-family=\"Times,serif\" font-size=\"14.00\" fill=\"#000000\">mse = 79.676</text>\n<text text-anchor=\"middle\" x=\"452.5\" y=\"-406.8\" font-family=\"Times,serif\" font-size=\"14.00\" fill=\"#000000\">samples = 455</text>\n<text text-anchor=\"middle\" x=\"452.5\" y=\"-391.8\" font-family=\"Times,serif\" font-size=\"14.00\" fill=\"#000000\">value = 22.275</text>\n</g>\n<!-- 1 -->\n<g id=\"node2\" class=\"node\">\n<title>1</title>\n<polygon fill=\"#f2c19d\" stroke=\"#000000\" points=\"439.5,-348 335.5,-348 335.5,-280 439.5,-280 439.5,-348\"/>\n<text text-anchor=\"middle\" x=\"387.5\" y=\"-332.8\" font-family=\"Times,serif\" font-size=\"14.00\" fill=\"#000000\">RM &lt;= 7.141</text>\n<text text-anchor=\"middle\" x=\"387.5\" y=\"-317.8\" font-family=\"Times,serif\" font-size=\"14.00\" fill=\"#000000\">mse = 71.93</text>\n<text text-anchor=\"middle\" x=\"387.5\" y=\"-302.8\" font-family=\"Times,serif\" font-size=\"14.00\" fill=\"#000000\">samples = 189</text>\n<text text-anchor=\"middle\" x=\"387.5\" y=\"-287.8\" font-family=\"Times,serif\" font-size=\"14.00\" fill=\"#000000\">value = 29.327</text>\n</g>\n<!-- 0&#45;&gt;1 -->\n<g id=\"edge1\" class=\"edge\">\n<title>0&#45;&gt;1</title>\n<path fill=\"none\" stroke=\"#000000\" d=\"M431.2166,-383.9465C425.7733,-375.2373 419.8516,-365.7626 414.175,-356.6801\"/>\n<polygon fill=\"#000000\" stroke=\"#000000\" points=\"417.0993,-354.755 408.8312,-348.13 411.1633,-358.465 417.0993,-354.755\"/>\n<text text-anchor=\"middle\" x=\"403.2098\" y=\"-368.7898\" font-family=\"Times,serif\" font-size=\"14.00\" fill=\"#000000\">True</text>\n</g>\n<!-- 24 -->\n<g id=\"node15\" class=\"node\">\n<title>24</title>\n<polygon fill=\"#fae6d8\" stroke=\"#000000\" points=\"629.5,-348 519.5,-348 519.5,-280 629.5,-280 629.5,-348\"/>\n<text text-anchor=\"middle\" x=\"574.5\" y=\"-332.8\" font-family=\"Times,serif\" font-size=\"14.00\" fill=\"#000000\">LSTAT &lt;= 15.0</text>\n<text text-anchor=\"middle\" x=\"574.5\" y=\"-317.8\" font-family=\"Times,serif\" font-size=\"14.00\" fill=\"#000000\">mse = 24.738</text>\n<text text-anchor=\"middle\" x=\"574.5\" y=\"-302.8\" font-family=\"Times,serif\" font-size=\"14.00\" fill=\"#000000\">samples = 266</text>\n<text text-anchor=\"middle\" x=\"574.5\" y=\"-287.8\" font-family=\"Times,serif\" font-size=\"14.00\" fill=\"#000000\">value = 17.264</text>\n</g>\n<!-- 0&#45;&gt;24 -->\n<g id=\"edge14\" class=\"edge\">\n<title>0&#45;&gt;24</title>\n<path fill=\"none\" stroke=\"#000000\" d=\"M492.4474,-383.9465C503.4012,-374.6088 515.3873,-364.3911 526.732,-354.7203\"/>\n<polygon fill=\"#000000\" stroke=\"#000000\" points=\"529.1233,-357.2809 534.4629,-348.13 524.5821,-351.9538 529.1233,-357.2809\"/>\n<text text-anchor=\"middle\" x=\"532.478\" y=\"-369.3511\" font-family=\"Times,serif\" font-size=\"14.00\" fill=\"#000000\">False</text>\n</g>\n<!-- 2 -->\n<g id=\"node3\" class=\"node\">\n<title>2</title>\n<polygon fill=\"#f4cbad\" stroke=\"#000000\" points=\"209.5,-244 105.5,-244 105.5,-176 209.5,-176 209.5,-244\"/>\n<text text-anchor=\"middle\" x=\"157.5\" y=\"-228.8\" font-family=\"Times,serif\" font-size=\"14.00\" fill=\"#000000\">DIS &lt;= 1.485</text>\n<text text-anchor=\"middle\" x=\"157.5\" y=\"-213.8\" font-family=\"Times,serif\" font-size=\"14.00\" fill=\"#000000\">mse = 32.79</text>\n<text text-anchor=\"middle\" x=\"157.5\" y=\"-198.8\" font-family=\"Times,serif\" font-size=\"14.00\" fill=\"#000000\">samples = 146</text>\n<text text-anchor=\"middle\" x=\"157.5\" y=\"-183.8\" font-family=\"Times,serif\" font-size=\"14.00\" fill=\"#000000\">value = 26.101</text>\n</g>\n<!-- 1&#45;&gt;2 -->\n<g id=\"edge2\" class=\"edge\">\n<title>1&#45;&gt;2</title>\n<path fill=\"none\" stroke=\"#000000\" d=\"M335.3094,-290.4008C300.8779,-274.8318 255.6104,-254.363 219.3675,-237.9748\"/>\n<polygon fill=\"#000000\" stroke=\"#000000\" points=\"220.4355,-234.6166 209.8816,-233.6856 217.5514,-240.9949 220.4355,-234.6166\"/>\n</g>\n<!-- 11 -->\n<g id=\"node8\" class=\"node\">\n<title>11</title>\n<polygon fill=\"#eb9f68\" stroke=\"#000000\" points=\"439.5,-244 335.5,-244 335.5,-176 439.5,-176 439.5,-244\"/>\n<text text-anchor=\"middle\" x=\"387.5\" y=\"-228.8\" font-family=\"Times,serif\" font-size=\"14.00\" fill=\"#000000\">RM &lt;= 7.437</text>\n<text text-anchor=\"middle\" x=\"387.5\" y=\"-213.8\" font-family=\"Times,serif\" font-size=\"14.00\" fill=\"#000000\">mse = 49.547</text>\n<text text-anchor=\"middle\" x=\"387.5\" y=\"-198.8\" font-family=\"Times,serif\" font-size=\"14.00\" fill=\"#000000\">samples = 43</text>\n<text text-anchor=\"middle\" x=\"387.5\" y=\"-183.8\" font-family=\"Times,serif\" font-size=\"14.00\" fill=\"#000000\">value = 40.279</text>\n</g>\n<!-- 1&#45;&gt;11 -->\n<g id=\"edge7\" class=\"edge\">\n<title>1&#45;&gt;11</title>\n<path fill=\"none\" stroke=\"#000000\" d=\"M387.5,-279.9465C387.5,-271.776 387.5,-262.9318 387.5,-254.3697\"/>\n<polygon fill=\"#000000\" stroke=\"#000000\" points=\"391.0001,-254.13 387.5,-244.13 384.0001,-254.13 391.0001,-254.13\"/>\n</g>\n<!-- 3 -->\n<g id=\"node4\" class=\"node\">\n<title>3</title>\n<polygon fill=\"#e58139\" stroke=\"#000000\" points=\"89,-132.5 0,-132.5 0,-79.5 89,-79.5 89,-132.5\"/>\n<text text-anchor=\"middle\" x=\"44.5\" y=\"-117.3\" font-family=\"Times,serif\" font-size=\"14.00\" fill=\"#000000\">mse = 0.0</text>\n<text text-anchor=\"middle\" x=\"44.5\" y=\"-102.3\" font-family=\"Times,serif\" font-size=\"14.00\" fill=\"#000000\">samples = 3</text>\n<text text-anchor=\"middle\" x=\"44.5\" y=\"-87.3\" font-family=\"Times,serif\" font-size=\"14.00\" fill=\"#000000\">value = 50.0</text>\n</g>\n<!-- 2&#45;&gt;3 -->\n<g id=\"edge3\" class=\"edge\">\n<title>2&#45;&gt;3</title>\n<path fill=\"none\" stroke=\"#000000\" d=\"M120.4996,-175.9465C107.8134,-164.2707 93.6322,-151.219 80.987,-139.5809\"/>\n<polygon fill=\"#000000\" stroke=\"#000000\" points=\"83.0673,-136.7389 73.3391,-132.5422 78.3269,-141.8895 83.0673,-136.7389\"/>\n</g>\n<!-- 4 -->\n<g id=\"node5\" class=\"node\">\n<title>4</title>\n<polygon fill=\"#f5ccaf\" stroke=\"#000000\" points=\"207.5,-140 107.5,-140 107.5,-72 207.5,-72 207.5,-140\"/>\n<text text-anchor=\"middle\" x=\"157.5\" y=\"-124.8\" font-family=\"Times,serif\" font-size=\"14.00\" fill=\"#000000\">RM &lt;= 6.543</text>\n<text text-anchor=\"middle\" x=\"157.5\" y=\"-109.8\" font-family=\"Times,serif\" font-size=\"14.00\" fill=\"#000000\">mse = 21.244</text>\n<text text-anchor=\"middle\" x=\"157.5\" y=\"-94.8\" font-family=\"Times,serif\" font-size=\"14.00\" fill=\"#000000\">samples = 143</text>\n<text text-anchor=\"middle\" x=\"157.5\" y=\"-79.8\" font-family=\"Times,serif\" font-size=\"14.00\" fill=\"#000000\">value = 25.6</text>\n</g>\n<!-- 2&#45;&gt;4 -->\n<g id=\"edge4\" class=\"edge\">\n<title>2&#45;&gt;4</title>\n<path fill=\"none\" stroke=\"#000000\" d=\"M157.5,-175.9465C157.5,-167.776 157.5,-158.9318 157.5,-150.3697\"/>\n<polygon fill=\"#000000\" stroke=\"#000000\" points=\"161.0001,-150.13 157.5,-140.13 154.0001,-150.13 161.0001,-150.13\"/>\n</g>\n<!-- 5 -->\n<g id=\"node6\" class=\"node\">\n<title>5</title>\n<polygon fill=\"#c0c0c0\" stroke=\"#000000\" points=\"112.5,-36 58.5,-36 58.5,0 112.5,0 112.5,-36\"/>\n<text text-anchor=\"middle\" x=\"85.5\" y=\"-14.3\" font-family=\"Times,serif\" font-size=\"14.00\" fill=\"#000000\">(...)</text>\n</g>\n<!-- 4&#45;&gt;5 -->\n<g id=\"edge5\" class=\"edge\">\n<title>4&#45;&gt;5</title>\n<path fill=\"none\" stroke=\"#000000\" d=\"M129.6629,-71.9769C122.1059,-62.7406 114.0424,-52.8851 106.9014,-44.1573\"/>\n<polygon fill=\"#000000\" stroke=\"#000000\" points=\"109.4256,-41.7152 100.3843,-36.192 104.0079,-46.1479 109.4256,-41.7152\"/>\n</g>\n<!-- 8 -->\n<g id=\"node7\" class=\"node\">\n<title>8</title>\n<polygon fill=\"#c0c0c0\" stroke=\"#000000\" points=\"184.5,-36 130.5,-36 130.5,0 184.5,0 184.5,-36\"/>\n<text text-anchor=\"middle\" x=\"157.5\" y=\"-14.3\" font-family=\"Times,serif\" font-size=\"14.00\" fill=\"#000000\">(...)</text>\n</g>\n<!-- 4&#45;&gt;8 -->\n<g id=\"edge6\" class=\"edge\">\n<title>4&#45;&gt;8</title>\n<path fill=\"none\" stroke=\"#000000\" d=\"M157.5,-71.9769C157.5,-63.5023 157.5,-54.5065 157.5,-46.3388\"/>\n<polygon fill=\"#000000\" stroke=\"#000000\" points=\"161.0001,-46.1919 157.5,-36.192 154.0001,-46.192 161.0001,-46.1919\"/>\n</g>\n<!-- 12 -->\n<g id=\"node9\" class=\"node\">\n<title>12</title>\n<polygon fill=\"#efb185\" stroke=\"#000000\" points=\"341.5,-140 237.5,-140 237.5,-72 341.5,-72 341.5,-140\"/>\n<text text-anchor=\"middle\" x=\"289.5\" y=\"-124.8\" font-family=\"Times,serif\" font-size=\"14.00\" fill=\"#000000\">RAD &lt;= 7.5</text>\n<text text-anchor=\"middle\" x=\"289.5\" y=\"-109.8\" font-family=\"Times,serif\" font-size=\"14.00\" fill=\"#000000\">mse = 3.752</text>\n<text text-anchor=\"middle\" x=\"289.5\" y=\"-94.8\" font-family=\"Times,serif\" font-size=\"14.00\" fill=\"#000000\">samples = 18</text>\n<text text-anchor=\"middle\" x=\"289.5\" y=\"-79.8\" font-family=\"Times,serif\" font-size=\"14.00\" fill=\"#000000\">value = 34.406</text>\n</g>\n<!-- 11&#45;&gt;12 -->\n<g id=\"edge8\" class=\"edge\">\n<title>11&#45;&gt;12</title>\n<path fill=\"none\" stroke=\"#000000\" d=\"M355.4111,-175.9465C346.866,-166.8782 337.5387,-156.9799 328.6609,-147.5585\"/>\n<polygon fill=\"#000000\" stroke=\"#000000\" points=\"331.0663,-145.0076 321.661,-140.13 325.9717,-149.8082 331.0663,-145.0076\"/>\n</g>\n<!-- 19 -->\n<g id=\"node12\" class=\"node\">\n<title>19</title>\n<polygon fill=\"#e89254\" stroke=\"#000000\" points=\"463.5,-140 359.5,-140 359.5,-72 463.5,-72 463.5,-140\"/>\n<text text-anchor=\"middle\" x=\"411.5\" y=\"-124.8\" font-family=\"Times,serif\" font-size=\"14.00\" fill=\"#000000\">RAD &lt;= 16.0</text>\n<text text-anchor=\"middle\" x=\"411.5\" y=\"-109.8\" font-family=\"Times,serif\" font-size=\"14.00\" fill=\"#000000\">mse = 39.798</text>\n<text text-anchor=\"middle\" x=\"411.5\" y=\"-94.8\" font-family=\"Times,serif\" font-size=\"14.00\" fill=\"#000000\">samples = 25</text>\n<text text-anchor=\"middle\" x=\"411.5\" y=\"-79.8\" font-family=\"Times,serif\" font-size=\"14.00\" fill=\"#000000\">value = 44.508</text>\n</g>\n<!-- 11&#45;&gt;19 -->\n<g id=\"edge11\" class=\"edge\">\n<title>11&#45;&gt;19</title>\n<path fill=\"none\" stroke=\"#000000\" d=\"M395.3585,-175.9465C397.2647,-167.6863 399.3298,-158.7374 401.326,-150.0875\"/>\n<polygon fill=\"#000000\" stroke=\"#000000\" points=\"404.7855,-150.6609 403.6238,-140.13 397.9648,-149.0869 404.7855,-150.6609\"/>\n</g>\n<!-- 13 -->\n<g id=\"node10\" class=\"node\">\n<title>13</title>\n<polygon fill=\"#c0c0c0\" stroke=\"#000000\" points=\"256.5,-36 202.5,-36 202.5,0 256.5,0 256.5,-36\"/>\n<text text-anchor=\"middle\" x=\"229.5\" y=\"-14.3\" font-family=\"Times,serif\" font-size=\"14.00\" fill=\"#000000\">(...)</text>\n</g>\n<!-- 12&#45;&gt;13 -->\n<g id=\"edge9\" class=\"edge\">\n<title>12&#45;&gt;13</title>\n<path fill=\"none\" stroke=\"#000000\" d=\"M266.3024,-71.9769C260.1348,-62.931 253.5622,-53.2913 247.7036,-44.6986\"/>\n<polygon fill=\"#000000\" stroke=\"#000000\" points=\"250.4288,-42.4825 241.9036,-36.192 244.6452,-46.4259 250.4288,-42.4825\"/>\n</g>\n<!-- 16 -->\n<g id=\"node11\" class=\"node\">\n<title>16</title>\n<polygon fill=\"#c0c0c0\" stroke=\"#000000\" points=\"328.5,-36 274.5,-36 274.5,0 328.5,0 328.5,-36\"/>\n<text text-anchor=\"middle\" x=\"301.5\" y=\"-14.3\" font-family=\"Times,serif\" font-size=\"14.00\" fill=\"#000000\">(...)</text>\n</g>\n<!-- 12&#45;&gt;16 -->\n<g id=\"edge10\" class=\"edge\">\n<title>12&#45;&gt;16</title>\n<path fill=\"none\" stroke=\"#000000\" d=\"M294.1395,-71.9769C295.2951,-63.5023 296.5218,-54.5065 297.6356,-46.3388\"/>\n<polygon fill=\"#000000\" stroke=\"#000000\" points=\"301.136,-46.5732 299.0193,-36.192 294.2002,-45.6273 301.136,-46.5732\"/>\n</g>\n<!-- 20 -->\n<g id=\"node13\" class=\"node\">\n<title>20</title>\n<polygon fill=\"#c0c0c0\" stroke=\"#000000\" points=\"400.5,-36 346.5,-36 346.5,0 400.5,0 400.5,-36\"/>\n<text text-anchor=\"middle\" x=\"373.5\" y=\"-14.3\" font-family=\"Times,serif\" font-size=\"14.00\" fill=\"#000000\">(...)</text>\n</g>\n<!-- 19&#45;&gt;20 -->\n<g id=\"edge12\" class=\"edge\">\n<title>19&#45;&gt;20</title>\n<path fill=\"none\" stroke=\"#000000\" d=\"M396.8082,-71.9769C393.0254,-63.2167 389.0021,-53.8995 385.3818,-45.5157\"/>\n<polygon fill=\"#000000\" stroke=\"#000000\" points=\"388.5333,-43.985 381.3556,-36.192 382.1068,-46.7601 388.5333,-43.985\"/>\n</g>\n<!-- 23 -->\n<g id=\"node14\" class=\"node\">\n<title>23</title>\n<polygon fill=\"#c0c0c0\" stroke=\"#000000\" points=\"472.5,-36 418.5,-36 418.5,0 472.5,0 472.5,-36\"/>\n<text text-anchor=\"middle\" x=\"445.5\" y=\"-14.3\" font-family=\"Times,serif\" font-size=\"14.00\" fill=\"#000000\">(...)</text>\n</g>\n<!-- 19&#45;&gt;23 -->\n<g id=\"edge13\" class=\"edge\">\n<title>19&#45;&gt;23</title>\n<path fill=\"none\" stroke=\"#000000\" d=\"M424.6453,-71.9769C427.9931,-63.3119 431.5515,-54.102 434.7632,-45.7894\"/>\n<polygon fill=\"#000000\" stroke=\"#000000\" points=\"438.132,-46.7814 438.4713,-36.192 431.6024,-44.2585 438.132,-46.7814\"/>\n</g>\n<!-- 25 -->\n<g id=\"node16\" class=\"node\">\n<title>25</title>\n<polygon fill=\"#f8dbc6\" stroke=\"#000000\" points=\"634,-244 515,-244 515,-176 634,-176 634,-244\"/>\n<text text-anchor=\"middle\" x=\"574.5\" y=\"-228.8\" font-family=\"Times,serif\" font-size=\"14.00\" fill=\"#000000\">INDUS &lt;= 3.985</text>\n<text text-anchor=\"middle\" x=\"574.5\" y=\"-213.8\" font-family=\"Times,serif\" font-size=\"14.00\" fill=\"#000000\">mse = 8.862</text>\n<text text-anchor=\"middle\" x=\"574.5\" y=\"-198.8\" font-family=\"Times,serif\" font-size=\"14.00\" fill=\"#000000\">samples = 117</text>\n<text text-anchor=\"middle\" x=\"574.5\" y=\"-183.8\" font-family=\"Times,serif\" font-size=\"14.00\" fill=\"#000000\">value = 20.918</text>\n</g>\n<!-- 24&#45;&gt;25 -->\n<g id=\"edge15\" class=\"edge\">\n<title>24&#45;&gt;25</title>\n<path fill=\"none\" stroke=\"#000000\" d=\"M574.5,-279.9465C574.5,-271.776 574.5,-262.9318 574.5,-254.3697\"/>\n<polygon fill=\"#000000\" stroke=\"#000000\" points=\"578.0001,-254.13 574.5,-244.13 571.0001,-254.13 578.0001,-254.13\"/>\n</g>\n<!-- 38 -->\n<g id=\"node23\" class=\"node\">\n<title>38</title>\n<polygon fill=\"#fcefe6\" stroke=\"#000000\" points=\"866,-244 755,-244 755,-176 866,-176 866,-244\"/>\n<text text-anchor=\"middle\" x=\"810.5\" y=\"-228.8\" font-family=\"Times,serif\" font-size=\"14.00\" fill=\"#000000\">CRIM &lt;= 5.769</text>\n<text text-anchor=\"middle\" x=\"810.5\" y=\"-213.8\" font-family=\"Times,serif\" font-size=\"14.00\" fill=\"#000000\">mse = 18.492</text>\n<text text-anchor=\"middle\" x=\"810.5\" y=\"-198.8\" font-family=\"Times,serif\" font-size=\"14.00\" fill=\"#000000\">samples = 149</text>\n<text text-anchor=\"middle\" x=\"810.5\" y=\"-183.8\" font-family=\"Times,serif\" font-size=\"14.00\" fill=\"#000000\">value = 14.395</text>\n</g>\n<!-- 24&#45;&gt;38 -->\n<g id=\"edge22\" class=\"edge\">\n<title>24&#45;&gt;38</title>\n<path fill=\"none\" stroke=\"#000000\" d=\"M629.5337,-289.7479C664.1671,-274.4857 709.0349,-254.7134 745.4294,-238.6752\"/>\n<polygon fill=\"#000000\" stroke=\"#000000\" points=\"747.2304,-241.7064 754.9698,-234.4709 744.4075,-235.3008 747.2304,-241.7064\"/>\n</g>\n<!-- 26 -->\n<g id=\"node17\" class=\"node\">\n<title>26</title>\n<polygon fill=\"#f4cbad\" stroke=\"#000000\" points=\"595.5,-140 505.5,-140 505.5,-72 595.5,-72 595.5,-140\"/>\n<text text-anchor=\"middle\" x=\"550.5\" y=\"-124.8\" font-family=\"Times,serif\" font-size=\"14.00\" fill=\"#000000\">RAD &lt;= 2.5</text>\n<text text-anchor=\"middle\" x=\"550.5\" y=\"-109.8\" font-family=\"Times,serif\" font-size=\"14.00\" fill=\"#000000\">mse = 18.06</text>\n<text text-anchor=\"middle\" x=\"550.5\" y=\"-94.8\" font-family=\"Times,serif\" font-size=\"14.00\" fill=\"#000000\">samples = 7</text>\n<text text-anchor=\"middle\" x=\"550.5\" y=\"-79.8\" font-family=\"Times,serif\" font-size=\"14.00\" fill=\"#000000\">value = 26.0</text>\n</g>\n<!-- 25&#45;&gt;26 -->\n<g id=\"edge16\" class=\"edge\">\n<title>25&#45;&gt;26</title>\n<path fill=\"none\" stroke=\"#000000\" d=\"M566.6415,-175.9465C564.7353,-167.6863 562.6702,-158.7374 560.674,-150.0875\"/>\n<polygon fill=\"#000000\" stroke=\"#000000\" points=\"564.0352,-149.0869 558.3762,-140.13 557.2145,-150.6609 564.0352,-149.0869\"/>\n</g>\n<!-- 33 -->\n<g id=\"node20\" class=\"node\">\n<title>33</title>\n<polygon fill=\"#f8dcc8\" stroke=\"#000000\" points=\"733,-140 614,-140 614,-72 733,-72 733,-140\"/>\n<text text-anchor=\"middle\" x=\"673.5\" y=\"-124.8\" font-family=\"Times,serif\" font-size=\"14.00\" fill=\"#000000\">CRIM &lt;= 16.971</text>\n<text text-anchor=\"middle\" x=\"673.5\" y=\"-109.8\" font-family=\"Times,serif\" font-size=\"14.00\" fill=\"#000000\">mse = 6.529</text>\n<text text-anchor=\"middle\" x=\"673.5\" y=\"-94.8\" font-family=\"Times,serif\" font-size=\"14.00\" fill=\"#000000\">samples = 110</text>\n<text text-anchor=\"middle\" x=\"673.5\" y=\"-79.8\" font-family=\"Times,serif\" font-size=\"14.00\" fill=\"#000000\">value = 20.595</text>\n</g>\n<!-- 25&#45;&gt;33 -->\n<g id=\"edge19\" class=\"edge\">\n<title>25&#45;&gt;33</title>\n<path fill=\"none\" stroke=\"#000000\" d=\"M606.9163,-175.9465C615.5486,-166.8782 624.9711,-156.9799 633.9395,-147.5585\"/>\n<polygon fill=\"#000000\" stroke=\"#000000\" points=\"636.6511,-149.7863 641.0109,-140.13 631.581,-144.9599 636.6511,-149.7863\"/>\n</g>\n<!-- 27 -->\n<g id=\"node18\" class=\"node\">\n<title>27</title>\n<polygon fill=\"#c0c0c0\" stroke=\"#000000\" points=\"544.5,-36 490.5,-36 490.5,0 544.5,0 544.5,-36\"/>\n<text text-anchor=\"middle\" x=\"517.5\" y=\"-14.3\" font-family=\"Times,serif\" font-size=\"14.00\" fill=\"#000000\">(...)</text>\n</g>\n<!-- 26&#45;&gt;27 -->\n<g id=\"edge17\" class=\"edge\">\n<title>26&#45;&gt;27</title>\n<path fill=\"none\" stroke=\"#000000\" d=\"M537.7413,-71.9769C534.492,-63.3119 531.0382,-54.102 527.921,-45.7894\"/>\n<polygon fill=\"#000000\" stroke=\"#000000\" points=\"531.1104,-44.3263 524.322,-36.192 524.5561,-46.7842 531.1104,-44.3263\"/>\n</g>\n<!-- 30 -->\n<g id=\"node19\" class=\"node\">\n<title>30</title>\n<polygon fill=\"#c0c0c0\" stroke=\"#000000\" points=\"616.5,-36 562.5,-36 562.5,0 616.5,0 616.5,-36\"/>\n<text text-anchor=\"middle\" x=\"589.5\" y=\"-14.3\" font-family=\"Times,serif\" font-size=\"14.00\" fill=\"#000000\">(...)</text>\n</g>\n<!-- 26&#45;&gt;30 -->\n<g id=\"edge18\" class=\"edge\">\n<title>26&#45;&gt;30</title>\n<path fill=\"none\" stroke=\"#000000\" d=\"M565.5784,-71.9769C569.4608,-63.2167 573.59,-53.8995 577.3055,-45.5157\"/>\n<polygon fill=\"#000000\" stroke=\"#000000\" points=\"580.5857,-46.7525 581.4377,-36.192 574.186,-43.9162 580.5857,-46.7525\"/>\n</g>\n<!-- 34 -->\n<g id=\"node21\" class=\"node\">\n<title>34</title>\n<polygon fill=\"#c0c0c0\" stroke=\"#000000\" points=\"688.5,-36 634.5,-36 634.5,0 688.5,0 688.5,-36\"/>\n<text text-anchor=\"middle\" x=\"661.5\" y=\"-14.3\" font-family=\"Times,serif\" font-size=\"14.00\" fill=\"#000000\">(...)</text>\n</g>\n<!-- 33&#45;&gt;34 -->\n<g id=\"edge20\" class=\"edge\">\n<title>33&#45;&gt;34</title>\n<path fill=\"none\" stroke=\"#000000\" d=\"M668.8605,-71.9769C667.7049,-63.5023 666.4782,-54.5065 665.3644,-46.3388\"/>\n<polygon fill=\"#000000\" stroke=\"#000000\" points=\"668.7998,-45.6273 663.9807,-36.192 661.864,-46.5732 668.7998,-45.6273\"/>\n</g>\n<!-- 37 -->\n<g id=\"node22\" class=\"node\">\n<title>37</title>\n<polygon fill=\"#c0c0c0\" stroke=\"#000000\" points=\"760.5,-36 706.5,-36 706.5,0 760.5,0 760.5,-36\"/>\n<text text-anchor=\"middle\" x=\"733.5\" y=\"-14.3\" font-family=\"Times,serif\" font-size=\"14.00\" fill=\"#000000\">(...)</text>\n</g>\n<!-- 33&#45;&gt;37 -->\n<g id=\"edge21\" class=\"edge\">\n<title>33&#45;&gt;37</title>\n<path fill=\"none\" stroke=\"#000000\" d=\"M696.6976,-71.9769C702.8652,-62.931 709.4378,-53.2913 715.2964,-44.6986\"/>\n<polygon fill=\"#000000\" stroke=\"#000000\" points=\"718.3548,-46.4259 721.0964,-36.192 712.5712,-42.4825 718.3548,-46.4259\"/>\n</g>\n<!-- 39 -->\n<g id=\"node24\" class=\"node\">\n<title>39</title>\n<polygon fill=\"#fae7d9\" stroke=\"#000000\" points=\"863.5,-140 757.5,-140 757.5,-72 863.5,-72 863.5,-140\"/>\n<text text-anchor=\"middle\" x=\"810.5\" y=\"-124.8\" font-family=\"Times,serif\" font-size=\"14.00\" fill=\"#000000\">NOX &lt;= 0.531</text>\n<text text-anchor=\"middle\" x=\"810.5\" y=\"-109.8\" font-family=\"Times,serif\" font-size=\"14.00\" fill=\"#000000\">mse = 10.906</text>\n<text text-anchor=\"middle\" x=\"810.5\" y=\"-94.8\" font-family=\"Times,serif\" font-size=\"14.00\" fill=\"#000000\">samples = 72</text>\n<text text-anchor=\"middle\" x=\"810.5\" y=\"-79.8\" font-family=\"Times,serif\" font-size=\"14.00\" fill=\"#000000\">value = 16.935</text>\n</g>\n<!-- 38&#45;&gt;39 -->\n<g id=\"edge23\" class=\"edge\">\n<title>38&#45;&gt;39</title>\n<path fill=\"none\" stroke=\"#000000\" d=\"M810.5,-175.9465C810.5,-167.776 810.5,-158.9318 810.5,-150.3697\"/>\n<polygon fill=\"#000000\" stroke=\"#000000\" points=\"814.0001,-150.13 810.5,-140.13 807.0001,-150.13 814.0001,-150.13\"/>\n</g>\n<!-- 46 -->\n<g id=\"node27\" class=\"node\">\n<title>46</title>\n<polygon fill=\"#fdf6f1\" stroke=\"#000000\" points=\"1012,-140 887,-140 887,-72 1012,-72 1012,-140\"/>\n<text text-anchor=\"middle\" x=\"949.5\" y=\"-124.8\" font-family=\"Times,serif\" font-size=\"14.00\" fill=\"#000000\">LSTAT &lt;= 20.195</text>\n<text text-anchor=\"middle\" x=\"949.5\" y=\"-109.8\" font-family=\"Times,serif\" font-size=\"14.00\" fill=\"#000000\">mse = 13.917</text>\n<text text-anchor=\"middle\" x=\"949.5\" y=\"-94.8\" font-family=\"Times,serif\" font-size=\"14.00\" fill=\"#000000\">samples = 77</text>\n<text text-anchor=\"middle\" x=\"949.5\" y=\"-79.8\" font-family=\"Times,serif\" font-size=\"14.00\" fill=\"#000000\">value = 12.021</text>\n</g>\n<!-- 38&#45;&gt;46 -->\n<g id=\"edge26\" class=\"edge\">\n<title>38&#45;&gt;46</title>\n<path fill=\"none\" stroke=\"#000000\" d=\"M856.0138,-175.9465C868.734,-166.4293 882.676,-155.9978 895.8206,-146.163\"/>\n<polygon fill=\"#000000\" stroke=\"#000000\" points=\"897.9738,-148.9232 903.8839,-140.13 893.7802,-143.3184 897.9738,-148.9232\"/>\n</g>\n<!-- 40 -->\n<g id=\"node25\" class=\"node\">\n<title>40</title>\n<polygon fill=\"#c0c0c0\" stroke=\"#000000\" points=\"832.5,-36 778.5,-36 778.5,0 832.5,0 832.5,-36\"/>\n<text text-anchor=\"middle\" x=\"805.5\" y=\"-14.3\" font-family=\"Times,serif\" font-size=\"14.00\" fill=\"#000000\">(...)</text>\n</g>\n<!-- 39&#45;&gt;40 -->\n<g id=\"edge24\" class=\"edge\">\n<title>39&#45;&gt;40</title>\n<path fill=\"none\" stroke=\"#000000\" d=\"M808.5669,-71.9769C808.0854,-63.5023 807.5742,-54.5065 807.1102,-46.3388\"/>\n<polygon fill=\"#000000\" stroke=\"#000000\" points=\"810.5954,-45.9773 806.5336,-36.192 803.6066,-46.3744 810.5954,-45.9773\"/>\n</g>\n<!-- 43 -->\n<g id=\"node26\" class=\"node\">\n<title>43</title>\n<polygon fill=\"#c0c0c0\" stroke=\"#000000\" points=\"904.5,-36 850.5,-36 850.5,0 904.5,0 904.5,-36\"/>\n<text text-anchor=\"middle\" x=\"877.5\" y=\"-14.3\" font-family=\"Times,serif\" font-size=\"14.00\" fill=\"#000000\">(...)</text>\n</g>\n<!-- 39&#45;&gt;43 -->\n<g id=\"edge25\" class=\"edge\">\n<title>39&#45;&gt;43</title>\n<path fill=\"none\" stroke=\"#000000\" d=\"M836.4039,-71.9769C843.4361,-62.7406 850.9397,-52.8851 857.5848,-44.1573\"/>\n<polygon fill=\"#000000\" stroke=\"#000000\" points=\"860.3763,-46.2686 863.6493,-36.192 854.8068,-42.0282 860.3763,-46.2686\"/>\n</g>\n<!-- 47 -->\n<g id=\"node28\" class=\"node\">\n<title>47</title>\n<polygon fill=\"#c0c0c0\" stroke=\"#000000\" points=\"976.5,-36 922.5,-36 922.5,0 976.5,0 976.5,-36\"/>\n<text text-anchor=\"middle\" x=\"949.5\" y=\"-14.3\" font-family=\"Times,serif\" font-size=\"14.00\" fill=\"#000000\">(...)</text>\n</g>\n<!-- 46&#45;&gt;47 -->\n<g id=\"edge27\" class=\"edge\">\n<title>46&#45;&gt;47</title>\n<path fill=\"none\" stroke=\"#000000\" d=\"M949.5,-71.9769C949.5,-63.5023 949.5,-54.5065 949.5,-46.3388\"/>\n<polygon fill=\"#000000\" stroke=\"#000000\" points=\"953.0001,-46.1919 949.5,-36.192 946.0001,-46.192 953.0001,-46.1919\"/>\n</g>\n<!-- 50 -->\n<g id=\"node29\" class=\"node\">\n<title>50</title>\n<polygon fill=\"#c0c0c0\" stroke=\"#000000\" points=\"1048.5,-36 994.5,-36 994.5,0 1048.5,0 1048.5,-36\"/>\n<text text-anchor=\"middle\" x=\"1021.5\" y=\"-14.3\" font-family=\"Times,serif\" font-size=\"14.00\" fill=\"#000000\">(...)</text>\n</g>\n<!-- 46&#45;&gt;50 -->\n<g id=\"edge28\" class=\"edge\">\n<title>46&#45;&gt;50</title>\n<path fill=\"none\" stroke=\"#000000\" d=\"M977.3371,-71.9769C984.8941,-62.7406 992.9576,-52.8851 1000.0986,-44.1573\"/>\n<polygon fill=\"#000000\" stroke=\"#000000\" points=\"1002.9921,-46.1479 1006.6157,-36.192 997.5744,-41.7152 1002.9921,-46.1479\"/>\n</g>\n</g>\n</svg>\n"
          },
          "metadata": {
            "tags": []
          },
          "execution_count": 5
        }
      ]
    },
    {
      "cell_type": "code",
      "metadata": {
        "id": "JsrsLb1mq_Yc",
        "colab_type": "code",
        "colab": {
          "base_uri": "https://localhost:8080/",
          "height": 202
        },
        "outputId": "d30085d4-8962-4b48-d710-1c4efa59b3da"
      },
      "source": [
        "pre = reg.predict(x_test)\n",
        "pre"
      ],
      "execution_count": 6,
      "outputs": [
        {
          "output_type": "execute_result",
          "data": {
            "text/plain": [
              "array([15.        , 20.53428571, 24.6       , 20.79166667, 20.53428571,\n",
              "       20.79166667, 20.53428571, 13.33333333, 20.79166667, 22.71447368,\n",
              "       31.57407407, 20.53428571, 46.515     , 14.16315789, 20.79166667,\n",
              "       20.53428571, 14.16315789, 17.17435897, 26.76578947, 46.515     ,\n",
              "       22.71447368, 26.76578947, 46.515     , 37.2       , 20.53428571,\n",
              "       22.71447368, 34.40833333, 22.71447368, 46.515     , 20.79166667,\n",
              "       20.53428571, 20.79166667, 50.        , 22.71447368, 26.76578947,\n",
              "       14.16315789, 31.57407407, 20.53428571, 20.53428571, 17.17435897,\n",
              "       50.        , 20.53428571, 22.71447368, 13.75384615, 20.53428571,\n",
              "       24.6       , 22.71447368, 22.71447368, 46.515     , 22.71447368,\n",
              "       20.53428571])"
            ]
          },
          "metadata": {
            "tags": []
          },
          "execution_count": 6
        }
      ]
    },
    {
      "cell_type": "code",
      "metadata": {
        "id": "zDo6rHn13eKn",
        "colab_type": "code",
        "colab": {
          "base_uri": "https://localhost:8080/",
          "height": 34
        },
        "outputId": "5b798519-2bf1-416a-ce2f-2f7c59bf3f29"
      },
      "source": [
        "from sklearn.metrics import r2_score\n",
        "pre = reg.predict(x_test)\n",
        "r2_score(y_test,pre)"
      ],
      "execution_count": 7,
      "outputs": [
        {
          "output_type": "execute_result",
          "data": {
            "text/plain": [
              "0.9276063142324854"
            ]
          },
          "metadata": {
            "tags": []
          },
          "execution_count": 7
        }
      ]
    }
  ]
}